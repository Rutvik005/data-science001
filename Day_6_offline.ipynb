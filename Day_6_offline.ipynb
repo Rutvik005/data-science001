{
  "nbformat": 4,
  "nbformat_minor": 0,
  "metadata": {
    "colab": {
      "provenance": []
    },
    "kernelspec": {
      "name": "python3",
      "display_name": "Python 3"
    },
    "language_info": {
      "name": "python"
    }
  },
  "cells": [
    {
      "cell_type": "code",
      "execution_count": null,
      "metadata": {
        "id": "cHfo0qdUSiaG"
      },
      "outputs": [],
      "source": [
        "import numpy as np"
      ]
    },
    {
      "cell_type": "code",
      "source": [
        "arr = np.array([3,4,6,7,9,2])"
      ],
      "metadata": {
        "id": "dU3PLcxpU8eF"
      },
      "execution_count": null,
      "outputs": []
    },
    {
      "cell_type": "code",
      "source": [
        "np.sum(arr)"
      ],
      "metadata": {
        "colab": {
          "base_uri": "https://localhost:8080/"
        },
        "id": "LcVQ049tVATG",
        "outputId": "4478e6ab-57f4-4116-955a-138b0f06a845"
      },
      "execution_count": null,
      "outputs": [
        {
          "output_type": "execute_result",
          "data": {
            "text/plain": [
              "31"
            ]
          },
          "metadata": {},
          "execution_count": 3
        }
      ]
    },
    {
      "cell_type": "code",
      "source": [
        "np.mean(arr), np.median(arr)"
      ],
      "metadata": {
        "colab": {
          "base_uri": "https://localhost:8080/"
        },
        "id": "e6yAiQ5gVC06",
        "outputId": "a2baa1b0-c5fe-403a-deab-c6f1a5149f00"
      },
      "execution_count": null,
      "outputs": [
        {
          "output_type": "execute_result",
          "data": {
            "text/plain": [
              "5.166666666666667"
            ]
          },
          "metadata": {},
          "execution_count": 5
        }
      ]
    },
    {
      "cell_type": "code",
      "source": [
        "np.sin(arr),np.cos(arr)"
      ],
      "metadata": {
        "colab": {
          "base_uri": "https://localhost:8080/"
        },
        "id": "BJBoCjWlVSDr",
        "outputId": "4accffc1-3e14-4790-9cdc-a2aee4e7e231"
      },
      "execution_count": null,
      "outputs": [
        {
          "output_type": "execute_result",
          "data": {
            "text/plain": [
              "array([ 0.14112001, -0.7568025 , -0.2794155 ,  0.6569866 ,  0.41211849,\n",
              "        0.90929743])"
            ]
          },
          "metadata": {},
          "execution_count": 8
        }
      ]
    },
    {
      "cell_type": "code",
      "source": [
        "np.min(arr),np.max(arr)"
      ],
      "metadata": {
        "colab": {
          "base_uri": "https://localhost:8080/"
        },
        "id": "ilz-DZtcVnN0",
        "outputId": "3b98730c-b326-48f1-d491-66762f72be20"
      },
      "execution_count": null,
      "outputs": [
        {
          "output_type": "execute_result",
          "data": {
            "text/plain": [
              "2"
            ]
          },
          "metadata": {},
          "execution_count": 11
        }
      ]
    },
    {
      "cell_type": "markdown",
      "source": [
        "#Numerical operations on 2D array"
      ],
      "metadata": {
        "id": "Bt8T_b5MWEoo"
      }
    },
    {
      "cell_type": "code",
      "source": [
        "arr = np.array([[4,6,2,4],[9,7,1,0],[3,1,0,9],[4,3,7,1]])\n",
        "print(arr)"
      ],
      "metadata": {
        "colab": {
          "base_uri": "https://localhost:8080/"
        },
        "id": "aaXwi8A-VqBN",
        "outputId": "7cc4924f-154e-4279-d273-30c51a1580fa"
      },
      "execution_count": null,
      "outputs": [
        {
          "output_type": "stream",
          "name": "stdout",
          "text": [
            "[[4 6 2 4]\n",
            " [9 7 1 0]\n",
            " [3 1 0 9]\n",
            " [4 3 7 1]]\n"
          ]
        }
      ]
    },
    {
      "cell_type": "code",
      "source": [
        "np.max(arr)"
      ],
      "metadata": {
        "colab": {
          "base_uri": "https://localhost:8080/"
        },
        "id": "v1HudyG5Vvqr",
        "outputId": "5213afe3-1d49-447a-9c3d-e82178f901ed"
      },
      "execution_count": null,
      "outputs": [
        {
          "output_type": "execute_result",
          "data": {
            "text/plain": [
              "9"
            ]
          },
          "metadata": {},
          "execution_count": 14
        }
      ]
    },
    {
      "cell_type": "code",
      "source": [
        "np.max(arr,axis = 0)"
      ],
      "metadata": {
        "colab": {
          "base_uri": "https://localhost:8080/"
        },
        "id": "l4cFxQi5WN4F",
        "outputId": "650bd947-f746-4a9b-ac84-736966dbdab9"
      },
      "execution_count": null,
      "outputs": [
        {
          "output_type": "execute_result",
          "data": {
            "text/plain": [
              "array([9, 7, 7, 9])"
            ]
          },
          "metadata": {},
          "execution_count": 15
        }
      ]
    },
    {
      "cell_type": "code",
      "source": [
        "np.max(arr, axis = 1)"
      ],
      "metadata": {
        "colab": {
          "base_uri": "https://localhost:8080/"
        },
        "id": "aLGzOgbrWYm4",
        "outputId": "2bf0523d-1434-4f58-db12-23cf444ace6b"
      },
      "execution_count": null,
      "outputs": [
        {
          "output_type": "execute_result",
          "data": {
            "text/plain": [
              "array([6, 9, 9, 7])"
            ]
          },
          "metadata": {},
          "execution_count": 16
        }
      ]
    },
    {
      "cell_type": "code",
      "source": [
        "np.sum(arr), np.sum(arr, axis = 0) ,  np.sum(arr, axis = 1)"
      ],
      "metadata": {
        "colab": {
          "base_uri": "https://localhost:8080/"
        },
        "id": "S0G64TBKWpGD",
        "outputId": "a45f3b3a-8f70-491c-fae1-a5d653c15674"
      },
      "execution_count": null,
      "outputs": [
        {
          "output_type": "execute_result",
          "data": {
            "text/plain": [
              "(61, array([20, 17, 10, 14]), array([16, 17, 13, 15]))"
            ]
          },
          "metadata": {},
          "execution_count": 19
        }
      ]
    },
    {
      "cell_type": "markdown",
      "source": [
        "#Pracctice code :\n",
        "\n",
        "Create 2d array having shape 4*4\n",
        "\n",
        "create array that contains average of all columns.\n",
        "\n",
        "get the sum of all the averages"
      ],
      "metadata": {
        "id": "57FxO7DKXMVe"
      }
    },
    {
      "cell_type": "code",
      "source": [
        "arr = np.array([[4,6,2,4],[9,7,1,0],[3,1,0,9],[4,3,7,1]])\n",
        "print(arr)"
      ],
      "metadata": {
        "colab": {
          "base_uri": "https://localhost:8080/"
        },
        "id": "bzdykcFOXLw2",
        "outputId": "304bbd57-8e86-4fe7-9631-e04ec7e3c1ce"
      },
      "execution_count": null,
      "outputs": [
        {
          "output_type": "stream",
          "name": "stdout",
          "text": [
            "[[4 6 2 4]\n",
            " [9 7 1 0]\n",
            " [3 1 0 9]\n",
            " [4 3 7 1]]\n"
          ]
        }
      ]
    },
    {
      "cell_type": "code",
      "source": [
        "x = np.mean(arr, axis = 0)"
      ],
      "metadata": {
        "id": "3-UDeSHwW0uS"
      },
      "execution_count": null,
      "outputs": []
    },
    {
      "cell_type": "code",
      "source": [
        "sum(x)"
      ],
      "metadata": {
        "colab": {
          "base_uri": "https://localhost:8080/"
        },
        "id": "1t-tXVwCYZcX",
        "outputId": "835b0cde-1bbd-40b1-886c-e28c5d399ed3"
      },
      "execution_count": null,
      "outputs": [
        {
          "output_type": "execute_result",
          "data": {
            "text/plain": [
              "15.25"
            ]
          },
          "metadata": {},
          "execution_count": 23
        }
      ]
    },
    {
      "cell_type": "code",
      "source": [
        "sum(np.mean(arr, axis = 0))"
      ],
      "metadata": {
        "colab": {
          "base_uri": "https://localhost:8080/"
        },
        "id": "S08_niBzYhYw",
        "outputId": "47a40d30-4f30-44c7-faba-6ac754dda2a1"
      },
      "execution_count": null,
      "outputs": [
        {
          "output_type": "execute_result",
          "data": {
            "text/plain": [
              "15.25"
            ]
          },
          "metadata": {},
          "execution_count": 24
        }
      ]
    },
    {
      "cell_type": "code",
      "source": [
        "arr2 = np.array([[4,7,1],[8,1,3],[7,1,3]])\n",
        "print(arr2)"
      ],
      "metadata": {
        "colab": {
          "base_uri": "https://localhost:8080/"
        },
        "id": "sOVC_RwQYoFl",
        "outputId": "c19e86bd-ef2a-47ed-f47c-f249d5f001c2"
      },
      "execution_count": null,
      "outputs": [
        {
          "output_type": "stream",
          "name": "stdout",
          "text": [
            "[[4 7 1]\n",
            " [8 1 3]\n",
            " [7 1 3]]\n"
          ]
        }
      ]
    },
    {
      "cell_type": "code",
      "source": [
        "arr2 = arr2 + 10"
      ],
      "metadata": {
        "id": "ikOLjKVZY2xE"
      },
      "execution_count": null,
      "outputs": []
    },
    {
      "cell_type": "code",
      "source": [
        "arr2"
      ],
      "metadata": {
        "colab": {
          "base_uri": "https://localhost:8080/"
        },
        "id": "BCroe9guZDKp",
        "outputId": "d947f8df-6f2a-4a17-e18f-bac865a661a0"
      },
      "execution_count": null,
      "outputs": [
        {
          "output_type": "execute_result",
          "data": {
            "text/plain": [
              "array([[14, 17, 11],\n",
              "       [18, 11, 13],\n",
              "       [17, 11, 13]])"
            ]
          },
          "metadata": {},
          "execution_count": 31
        }
      ]
    },
    {
      "cell_type": "code",
      "source": [
        "arr3 = np.array([[5,10,5],[10,5,10],[10,10,20]])\n",
        "print(arr3)"
      ],
      "metadata": {
        "colab": {
          "base_uri": "https://localhost:8080/"
        },
        "id": "VJa1ATFFZKxT",
        "outputId": "f1006526-dcb3-40c4-a4e0-23495ab7140f"
      },
      "execution_count": null,
      "outputs": [
        {
          "output_type": "stream",
          "name": "stdout",
          "text": [
            "[[ 5 10  5]\n",
            " [10  5 10]\n",
            " [10 10 20]]\n"
          ]
        }
      ]
    },
    {
      "cell_type": "code",
      "source": [
        "arr2 * arr3"
      ],
      "metadata": {
        "colab": {
          "base_uri": "https://localhost:8080/"
        },
        "id": "YWb1qNSMZZq0",
        "outputId": "541d0814-be5b-4bb9-a430-a86157694e4d"
      },
      "execution_count": null,
      "outputs": [
        {
          "output_type": "execute_result",
          "data": {
            "text/plain": [
              "array([[ 70, 170,  55],\n",
              "       [180,  55, 130],\n",
              "       [170, 110, 260]])"
            ]
          },
          "metadata": {},
          "execution_count": 35
        }
      ]
    },
    {
      "cell_type": "markdown",
      "source": [
        "#Practice code\n",
        "\n",
        "create 2d array with shape 4*4\n",
        "\n",
        "find columnwise minimum and store value in l1\n",
        "\n",
        "create another 2d array with shape 4*4\n",
        "\n",
        "find row wise average and store value in l2\n",
        "\n",
        "\n",
        "perform multiplication between l1 and l2"
      ],
      "metadata": {
        "id": "g1rVgdMHZy3N"
      }
    },
    {
      "cell_type": "code",
      "source": [
        "arr1 = np.array([[5,2,7,0],[1,8,2,6],[6,3,2,1],[9,6,4,1]])\n",
        "print(arr1)"
      ],
      "metadata": {
        "colab": {
          "base_uri": "https://localhost:8080/"
        },
        "id": "JEDNk6OjZyOS",
        "outputId": "7a49456c-645c-45c2-e1f5-de4c18d17f07"
      },
      "execution_count": null,
      "outputs": [
        {
          "output_type": "stream",
          "name": "stdout",
          "text": [
            "[[5 2 7 0]\n",
            " [1 8 2 6]\n",
            " [6 3 2 1]\n",
            " [9 6 4 1]]\n"
          ]
        }
      ]
    },
    {
      "cell_type": "code",
      "source": [
        "l1 = np.min(arr1,axis =0)\n",
        "print(l1)"
      ],
      "metadata": {
        "id": "0WnputFIbNdA"
      },
      "execution_count": null,
      "outputs": []
    },
    {
      "cell_type": "code",
      "source": [],
      "metadata": {
        "colab": {
          "base_uri": "https://localhost:8080/"
        },
        "id": "Q-DC9-dUbNTR",
        "outputId": "7fdc2c77-69f0-4769-8ce7-072f20b5a622"
      },
      "execution_count": null,
      "outputs": [
        {
          "output_type": "stream",
          "name": "stdout",
          "text": [
            "[1 2 2 0]\n"
          ]
        }
      ]
    },
    {
      "cell_type": "code",
      "source": [
        "arr2 = np.array([[4,2,5,7],[9,8,7,6],[1,2,3,4],[0,3,1,5]])\n",
        "print(arr2)"
      ],
      "metadata": {
        "colab": {
          "base_uri": "https://localhost:8080/"
        },
        "id": "JR72ErthZjXB",
        "outputId": "f2013870-e2f4-4c34-bfdd-2faed498ffbb"
      },
      "execution_count": null,
      "outputs": [
        {
          "output_type": "stream",
          "name": "stdout",
          "text": [
            "[[4 2 5 7]\n",
            " [9 8 7 6]\n",
            " [1 2 3 4]\n",
            " [0 3 1 5]]\n"
          ]
        }
      ]
    },
    {
      "cell_type": "code",
      "source": [
        "l2 = np.mean(arr2, axis = 1)\n",
        "print(l2)"
      ],
      "metadata": {
        "id": "BTFCohcGbFTN"
      },
      "execution_count": null,
      "outputs": []
    },
    {
      "cell_type": "code",
      "source": [
        "l1 * l2"
      ],
      "metadata": {
        "colab": {
          "base_uri": "https://localhost:8080/"
        },
        "id": "XRrV5s4tbgHN",
        "outputId": "ed449375-25d3-4895-d291-e22bdc2ecd5e"
      },
      "execution_count": null,
      "outputs": [
        {
          "output_type": "stream",
          "name": "stdout",
          "text": [
            "[4.5  7.5  2.5  2.25]\n"
          ]
        }
      ]
    },
    {
      "cell_type": "code",
      "source": [
        "#Broadcasting operations\n",
        "arr1 = np.array([[4,2,5,7],[9,8,7,6],[1,2,3,4],[0,3,1,5]])\n",
        "print(arr1)\n",
        "\n",
        "arr2 = np.array([40,40,40,40])\n",
        "print(arr2)"
      ],
      "metadata": {
        "colab": {
          "base_uri": "https://localhost:8080/"
        },
        "id": "Gh7yGFzcbhn5",
        "outputId": "968d1beb-c4ec-4734-9d49-1bc6dcf51c21"
      },
      "execution_count": null,
      "outputs": [
        {
          "output_type": "stream",
          "name": "stdout",
          "text": [
            "[[4 2 5 7]\n",
            " [9 8 7 6]\n",
            " [1 2 3 4]\n",
            " [0 3 1 5]]\n",
            "[40 40 40 40]\n"
          ]
        }
      ]
    },
    {
      "cell_type": "code",
      "source": [
        "arr1 + arr2"
      ],
      "metadata": {
        "colab": {
          "base_uri": "https://localhost:8080/"
        },
        "id": "k5rvF70WblZa",
        "outputId": "65926274-7cba-462f-c984-404b86035055"
      },
      "execution_count": null,
      "outputs": [
        {
          "output_type": "execute_result",
          "data": {
            "text/plain": [
              "array([[44, 42, 45, 47],\n",
              "       [49, 48, 47, 46],\n",
              "       [41, 42, 43, 44],\n",
              "       [40, 43, 41, 45]])"
            ]
          },
          "metadata": {},
          "execution_count": 52
        }
      ]
    },
    {
      "cell_type": "code",
      "source": [
        "col  = np.array([[30],[40],[50],[60]])"
      ],
      "metadata": {
        "id": "31Tqk0QfceMC"
      },
      "execution_count": null,
      "outputs": []
    },
    {
      "cell_type": "code",
      "source": [
        "print(col)"
      ],
      "metadata": {
        "colab": {
          "base_uri": "https://localhost:8080/"
        },
        "id": "jIml2n-idGvX",
        "outputId": "cd2c5568-3d83-461e-ab63-2fcdd9940602"
      },
      "execution_count": null,
      "outputs": [
        {
          "output_type": "stream",
          "name": "stdout",
          "text": [
            "[[30]\n",
            " [40]\n",
            " [50]\n",
            " [60]]\n"
          ]
        }
      ]
    },
    {
      "cell_type": "code",
      "source": [
        "arr1 + col"
      ],
      "metadata": {
        "colab": {
          "base_uri": "https://localhost:8080/"
        },
        "id": "UtWW8bS9dJPZ",
        "outputId": "1b862ca1-b695-4f65-8046-0f1c1518b611"
      },
      "execution_count": null,
      "outputs": [
        {
          "output_type": "execute_result",
          "data": {
            "text/plain": [
              "array([[34, 32, 35, 37],\n",
              "       [49, 48, 47, 46],\n",
              "       [51, 52, 53, 54],\n",
              "       [60, 63, 61, 65]])"
            ]
          },
          "metadata": {},
          "execution_count": 57
        }
      ]
    }
  ]
}