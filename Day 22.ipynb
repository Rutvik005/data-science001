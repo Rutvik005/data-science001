{
 "cells": [
  {
   "cell_type": "code",
   "execution_count": 1,
   "id": "378baade",
   "metadata": {},
   "outputs": [],
   "source": [
    "a = [1,3,5,7,8]\n",
    "b = [3,5,8,1,5]\n",
    "c=0\n",
    "for i in range(len(a)):\n",
    "    c=c+(a[i]*b[i])"
   ]
  },
  {
   "cell_type": "code",
   "execution_count": 2,
   "id": "78cd1753",
   "metadata": {},
   "outputs": [
    {
     "data": {
      "text/plain": [
       "105"
      ]
     },
     "execution_count": 2,
     "metadata": {},
     "output_type": "execute_result"
    }
   ],
   "source": [
    "c"
   ]
  },
  {
   "cell_type": "code",
   "execution_count": 3,
   "id": "2b145e81",
   "metadata": {},
   "outputs": [],
   "source": [
    "import numpy as np"
   ]
  },
  {
   "cell_type": "code",
   "execution_count": null,
   "id": "f0b96101",
   "metadata": {},
   "outputs": [],
   "source": []
  },
  {
   "cell_type": "code",
   "execution_count": 4,
   "id": "a472bf2b",
   "metadata": {},
   "outputs": [],
   "source": [
    "from math import e"
   ]
  },
  {
   "cell_type": "code",
   "execution_count": 5,
   "id": "1b9b671a",
   "metadata": {},
   "outputs": [
    {
     "data": {
      "text/plain": [
       "2.718281828459045"
      ]
     },
     "execution_count": 5,
     "metadata": {},
     "output_type": "execute_result"
    }
   ],
   "source": [
    "e"
   ]
  },
  {
   "cell_type": "code",
   "execution_count": 6,
   "id": "98157873",
   "metadata": {},
   "outputs": [
    {
     "data": {
      "text/plain": [
       "0.9999546021312976"
      ]
     },
     "execution_count": 6,
     "metadata": {},
     "output_type": "execute_result"
    }
   ],
   "source": [
    "x=10\n",
    "y=1/(1+np.exp(-x))\n",
    "y"
   ]
  },
  {
   "cell_type": "code",
   "execution_count": 7,
   "id": "b8ee7812",
   "metadata": {},
   "outputs": [],
   "source": [
    "import pandas as pd\n",
    "df1=pd.read_csv('Social_Network_Ads.csv')"
   ]
  },
  {
   "cell_type": "code",
   "execution_count": 8,
   "id": "494017b1",
   "metadata": {},
   "outputs": [],
   "source": [
    "df1=df1.drop('User ID',axis=1)"
   ]
  },
  {
   "cell_type": "code",
   "execution_count": 9,
   "id": "5f937ac1",
   "metadata": {},
   "outputs": [
    {
     "data": {
      "text/html": [
       "<div>\n",
       "<style scoped>\n",
       "    .dataframe tbody tr th:only-of-type {\n",
       "        vertical-align: middle;\n",
       "    }\n",
       "\n",
       "    .dataframe tbody tr th {\n",
       "        vertical-align: top;\n",
       "    }\n",
       "\n",
       "    .dataframe thead th {\n",
       "        text-align: right;\n",
       "    }\n",
       "</style>\n",
       "<table border=\"1\" class=\"dataframe\">\n",
       "  <thead>\n",
       "    <tr style=\"text-align: right;\">\n",
       "      <th></th>\n",
       "      <th>Gender</th>\n",
       "      <th>Age</th>\n",
       "      <th>EstimatedSalary</th>\n",
       "      <th>Purchased</th>\n",
       "    </tr>\n",
       "  </thead>\n",
       "  <tbody>\n",
       "    <tr>\n",
       "      <th>0</th>\n",
       "      <td>Male</td>\n",
       "      <td>19</td>\n",
       "      <td>19000</td>\n",
       "      <td>0</td>\n",
       "    </tr>\n",
       "    <tr>\n",
       "      <th>1</th>\n",
       "      <td>Male</td>\n",
       "      <td>35</td>\n",
       "      <td>20000</td>\n",
       "      <td>0</td>\n",
       "    </tr>\n",
       "    <tr>\n",
       "      <th>2</th>\n",
       "      <td>Female</td>\n",
       "      <td>26</td>\n",
       "      <td>43000</td>\n",
       "      <td>0</td>\n",
       "    </tr>\n",
       "    <tr>\n",
       "      <th>3</th>\n",
       "      <td>Female</td>\n",
       "      <td>27</td>\n",
       "      <td>57000</td>\n",
       "      <td>0</td>\n",
       "    </tr>\n",
       "    <tr>\n",
       "      <th>4</th>\n",
       "      <td>Male</td>\n",
       "      <td>19</td>\n",
       "      <td>76000</td>\n",
       "      <td>0</td>\n",
       "    </tr>\n",
       "    <tr>\n",
       "      <th>...</th>\n",
       "      <td>...</td>\n",
       "      <td>...</td>\n",
       "      <td>...</td>\n",
       "      <td>...</td>\n",
       "    </tr>\n",
       "    <tr>\n",
       "      <th>395</th>\n",
       "      <td>Female</td>\n",
       "      <td>46</td>\n",
       "      <td>41000</td>\n",
       "      <td>1</td>\n",
       "    </tr>\n",
       "    <tr>\n",
       "      <th>396</th>\n",
       "      <td>Male</td>\n",
       "      <td>51</td>\n",
       "      <td>23000</td>\n",
       "      <td>1</td>\n",
       "    </tr>\n",
       "    <tr>\n",
       "      <th>397</th>\n",
       "      <td>Female</td>\n",
       "      <td>50</td>\n",
       "      <td>20000</td>\n",
       "      <td>1</td>\n",
       "    </tr>\n",
       "    <tr>\n",
       "      <th>398</th>\n",
       "      <td>Male</td>\n",
       "      <td>36</td>\n",
       "      <td>33000</td>\n",
       "      <td>0</td>\n",
       "    </tr>\n",
       "    <tr>\n",
       "      <th>399</th>\n",
       "      <td>Female</td>\n",
       "      <td>49</td>\n",
       "      <td>36000</td>\n",
       "      <td>1</td>\n",
       "    </tr>\n",
       "  </tbody>\n",
       "</table>\n",
       "<p>400 rows × 4 columns</p>\n",
       "</div>"
      ],
      "text/plain": [
       "     Gender  Age  EstimatedSalary  Purchased\n",
       "0      Male   19            19000          0\n",
       "1      Male   35            20000          0\n",
       "2    Female   26            43000          0\n",
       "3    Female   27            57000          0\n",
       "4      Male   19            76000          0\n",
       "..      ...  ...              ...        ...\n",
       "395  Female   46            41000          1\n",
       "396    Male   51            23000          1\n",
       "397  Female   50            20000          1\n",
       "398    Male   36            33000          0\n",
       "399  Female   49            36000          1\n",
       "\n",
       "[400 rows x 4 columns]"
      ]
     },
     "execution_count": 9,
     "metadata": {},
     "output_type": "execute_result"
    }
   ],
   "source": [
    "df1"
   ]
  },
  {
   "cell_type": "code",
   "execution_count": 10,
   "id": "ab3ac9f8",
   "metadata": {},
   "outputs": [],
   "source": [
    "from sklearn import preprocessing\n",
    "\n",
    "# label_encoder object knows how to understand word labels.\n",
    "label_encoder = preprocessing.LabelEncoder()\n",
    "\n",
    "# Encode labels in column 'species'.\n",
    "df1['Gender']= label_encoder.fit_transform(df1['Gender'])"
   ]
  },
  {
   "cell_type": "code",
   "execution_count": 11,
   "id": "fe044574",
   "metadata": {},
   "outputs": [
    {
     "data": {
      "text/html": [
       "<div>\n",
       "<style scoped>\n",
       "    .dataframe tbody tr th:only-of-type {\n",
       "        vertical-align: middle;\n",
       "    }\n",
       "\n",
       "    .dataframe tbody tr th {\n",
       "        vertical-align: top;\n",
       "    }\n",
       "\n",
       "    .dataframe thead th {\n",
       "        text-align: right;\n",
       "    }\n",
       "</style>\n",
       "<table border=\"1\" class=\"dataframe\">\n",
       "  <thead>\n",
       "    <tr style=\"text-align: right;\">\n",
       "      <th></th>\n",
       "      <th>Gender</th>\n",
       "      <th>Age</th>\n",
       "      <th>EstimatedSalary</th>\n",
       "      <th>Purchased</th>\n",
       "    </tr>\n",
       "  </thead>\n",
       "  <tbody>\n",
       "    <tr>\n",
       "      <th>0</th>\n",
       "      <td>1</td>\n",
       "      <td>19</td>\n",
       "      <td>19000</td>\n",
       "      <td>0</td>\n",
       "    </tr>\n",
       "    <tr>\n",
       "      <th>1</th>\n",
       "      <td>1</td>\n",
       "      <td>35</td>\n",
       "      <td>20000</td>\n",
       "      <td>0</td>\n",
       "    </tr>\n",
       "    <tr>\n",
       "      <th>2</th>\n",
       "      <td>0</td>\n",
       "      <td>26</td>\n",
       "      <td>43000</td>\n",
       "      <td>0</td>\n",
       "    </tr>\n",
       "    <tr>\n",
       "      <th>3</th>\n",
       "      <td>0</td>\n",
       "      <td>27</td>\n",
       "      <td>57000</td>\n",
       "      <td>0</td>\n",
       "    </tr>\n",
       "    <tr>\n",
       "      <th>4</th>\n",
       "      <td>1</td>\n",
       "      <td>19</td>\n",
       "      <td>76000</td>\n",
       "      <td>0</td>\n",
       "    </tr>\n",
       "    <tr>\n",
       "      <th>...</th>\n",
       "      <td>...</td>\n",
       "      <td>...</td>\n",
       "      <td>...</td>\n",
       "      <td>...</td>\n",
       "    </tr>\n",
       "    <tr>\n",
       "      <th>395</th>\n",
       "      <td>0</td>\n",
       "      <td>46</td>\n",
       "      <td>41000</td>\n",
       "      <td>1</td>\n",
       "    </tr>\n",
       "    <tr>\n",
       "      <th>396</th>\n",
       "      <td>1</td>\n",
       "      <td>51</td>\n",
       "      <td>23000</td>\n",
       "      <td>1</td>\n",
       "    </tr>\n",
       "    <tr>\n",
       "      <th>397</th>\n",
       "      <td>0</td>\n",
       "      <td>50</td>\n",
       "      <td>20000</td>\n",
       "      <td>1</td>\n",
       "    </tr>\n",
       "    <tr>\n",
       "      <th>398</th>\n",
       "      <td>1</td>\n",
       "      <td>36</td>\n",
       "      <td>33000</td>\n",
       "      <td>0</td>\n",
       "    </tr>\n",
       "    <tr>\n",
       "      <th>399</th>\n",
       "      <td>0</td>\n",
       "      <td>49</td>\n",
       "      <td>36000</td>\n",
       "      <td>1</td>\n",
       "    </tr>\n",
       "  </tbody>\n",
       "</table>\n",
       "<p>400 rows × 4 columns</p>\n",
       "</div>"
      ],
      "text/plain": [
       "     Gender  Age  EstimatedSalary  Purchased\n",
       "0         1   19            19000          0\n",
       "1         1   35            20000          0\n",
       "2         0   26            43000          0\n",
       "3         0   27            57000          0\n",
       "4         1   19            76000          0\n",
       "..      ...  ...              ...        ...\n",
       "395       0   46            41000          1\n",
       "396       1   51            23000          1\n",
       "397       0   50            20000          1\n",
       "398       1   36            33000          0\n",
       "399       0   49            36000          1\n",
       "\n",
       "[400 rows x 4 columns]"
      ]
     },
     "execution_count": 11,
     "metadata": {},
     "output_type": "execute_result"
    }
   ],
   "source": [
    "df1"
   ]
  },
  {
   "cell_type": "code",
   "execution_count": 12,
   "id": "f8bfdb4f",
   "metadata": {},
   "outputs": [
    {
     "data": {
      "text/html": [
       "<div>\n",
       "<style scoped>\n",
       "    .dataframe tbody tr th:only-of-type {\n",
       "        vertical-align: middle;\n",
       "    }\n",
       "\n",
       "    .dataframe tbody tr th {\n",
       "        vertical-align: top;\n",
       "    }\n",
       "\n",
       "    .dataframe thead th {\n",
       "        text-align: right;\n",
       "    }\n",
       "</style>\n",
       "<table border=\"1\" class=\"dataframe\">\n",
       "  <thead>\n",
       "    <tr style=\"text-align: right;\">\n",
       "      <th></th>\n",
       "      <th>Gender</th>\n",
       "      <th>Age</th>\n",
       "      <th>EstimatedSalary</th>\n",
       "    </tr>\n",
       "  </thead>\n",
       "  <tbody>\n",
       "    <tr>\n",
       "      <th>0</th>\n",
       "      <td>1</td>\n",
       "      <td>19</td>\n",
       "      <td>19000</td>\n",
       "    </tr>\n",
       "    <tr>\n",
       "      <th>1</th>\n",
       "      <td>1</td>\n",
       "      <td>35</td>\n",
       "      <td>20000</td>\n",
       "    </tr>\n",
       "    <tr>\n",
       "      <th>2</th>\n",
       "      <td>0</td>\n",
       "      <td>26</td>\n",
       "      <td>43000</td>\n",
       "    </tr>\n",
       "    <tr>\n",
       "      <th>3</th>\n",
       "      <td>0</td>\n",
       "      <td>27</td>\n",
       "      <td>57000</td>\n",
       "    </tr>\n",
       "    <tr>\n",
       "      <th>4</th>\n",
       "      <td>1</td>\n",
       "      <td>19</td>\n",
       "      <td>76000</td>\n",
       "    </tr>\n",
       "    <tr>\n",
       "      <th>...</th>\n",
       "      <td>...</td>\n",
       "      <td>...</td>\n",
       "      <td>...</td>\n",
       "    </tr>\n",
       "    <tr>\n",
       "      <th>395</th>\n",
       "      <td>0</td>\n",
       "      <td>46</td>\n",
       "      <td>41000</td>\n",
       "    </tr>\n",
       "    <tr>\n",
       "      <th>396</th>\n",
       "      <td>1</td>\n",
       "      <td>51</td>\n",
       "      <td>23000</td>\n",
       "    </tr>\n",
       "    <tr>\n",
       "      <th>397</th>\n",
       "      <td>0</td>\n",
       "      <td>50</td>\n",
       "      <td>20000</td>\n",
       "    </tr>\n",
       "    <tr>\n",
       "      <th>398</th>\n",
       "      <td>1</td>\n",
       "      <td>36</td>\n",
       "      <td>33000</td>\n",
       "    </tr>\n",
       "    <tr>\n",
       "      <th>399</th>\n",
       "      <td>0</td>\n",
       "      <td>49</td>\n",
       "      <td>36000</td>\n",
       "    </tr>\n",
       "  </tbody>\n",
       "</table>\n",
       "<p>400 rows × 3 columns</p>\n",
       "</div>"
      ],
      "text/plain": [
       "     Gender  Age  EstimatedSalary\n",
       "0         1   19            19000\n",
       "1         1   35            20000\n",
       "2         0   26            43000\n",
       "3         0   27            57000\n",
       "4         1   19            76000\n",
       "..      ...  ...              ...\n",
       "395       0   46            41000\n",
       "396       1   51            23000\n",
       "397       0   50            20000\n",
       "398       1   36            33000\n",
       "399       0   49            36000\n",
       "\n",
       "[400 rows x 3 columns]"
      ]
     },
     "execution_count": 12,
     "metadata": {},
     "output_type": "execute_result"
    }
   ],
   "source": [
    "X=df1[['Gender','Age','EstimatedSalary']]\n",
    "Y=df1['Purchased']\n",
    "X"
   ]
  },
  {
   "cell_type": "code",
   "execution_count": 13,
   "id": "5452e776",
   "metadata": {},
   "outputs": [],
   "source": [
    "from sklearn.model_selection import train_test_split\n",
    "\n",
    "X_train1, X_test1, y_train1, y_test1 = train_test_split(X, Y,test_size=0.2,random_state = 0)"
   ]
  },
  {
   "cell_type": "code",
   "execution_count": 14,
   "id": "2dcf6005",
   "metadata": {},
   "outputs": [
    {
     "data": {
      "text/plain": [
       "True"
      ]
     },
     "execution_count": 14,
     "metadata": {},
     "output_type": "execute_result"
    }
   ],
   "source": [
    "len(X)==len(Y)"
   ]
  },
  {
   "cell_type": "code",
   "execution_count": null,
   "id": "bf68536b",
   "metadata": {},
   "outputs": [],
   "source": []
  },
  {
   "cell_type": "code",
   "execution_count": 60,
   "id": "0f6546c9",
   "metadata": {},
   "outputs": [
    {
     "data": {
      "text/plain": [
       "array([0, 0, 0, 0, 0, 0, 0, 1, 0, 0, 0, 0, 0, 0, 0, 0, 0, 0, 1, 0, 0, 1,\n",
       "       0, 1, 0, 1, 0, 0, 0, 0, 0, 0, 1, 0, 0, 0, 0, 0, 0, 1, 0, 0, 0, 0,\n",
       "       1, 0, 0, 1, 0, 1, 1, 0, 0, 0, 1, 0, 0, 0, 0, 0, 0, 1, 0, 0, 0, 1,\n",
       "       0, 0, 0, 0, 1, 0, 0, 0, 0, 0, 1, 0, 1, 1], dtype=int64)"
      ]
     },
     "execution_count": 60,
     "metadata": {},
     "output_type": "execute_result"
    }
   ],
   "source": [
    "\n",
    "from sklearn.linear_model import LogisticRegression\n",
    "clf = LogisticRegression(penalty='l1',C=10**2,solver='liblinear')\n",
    "clf.fit(X_train1,y_train1)\n",
    "pre=clf.predict(X_test1)\n",
    "pre"
   ]
  },
  {
   "cell_type": "code",
   "execution_count": 61,
   "id": "b6595132",
   "metadata": {},
   "outputs": [
    {
     "data": {
      "text/plain": [
       "0.925"
      ]
     },
     "execution_count": 61,
     "metadata": {},
     "output_type": "execute_result"
    }
   ],
   "source": [
    "from sklearn.metrics import confusion_matrix, accuracy_score\n",
    "accuracy_score(y_test1,pre)"
   ]
  },
  {
   "cell_type": "code",
   "execution_count": 31,
   "id": "8f00cb33",
   "metadata": {},
   "outputs": [
    {
     "data": {
      "text/plain": [
       "80"
      ]
     },
     "execution_count": 31,
     "metadata": {},
     "output_type": "execute_result"
    }
   ],
   "source": [
    "len(pre)"
   ]
  },
  {
   "cell_type": "code",
   "execution_count": 19,
   "id": "f0dad31b",
   "metadata": {},
   "outputs": [
    {
     "data": {
      "text/plain": [
       "400"
      ]
     },
     "execution_count": 19,
     "metadata": {},
     "output_type": "execute_result"
    }
   ],
   "source": [
    "len(X)"
   ]
  },
  {
   "cell_type": "code",
   "execution_count": 34,
   "id": "94c25ba2",
   "metadata": {},
   "outputs": [],
   "source": []
  },
  {
   "cell_type": "code",
   "execution_count": 46,
   "id": "bcf01a4a",
   "metadata": {},
   "outputs": [],
   "source": []
  },
  {
   "cell_type": "markdown",
   "id": "d418a069",
   "metadata": {},
   "source": [
    "Day 22\n"
   ]
  },
  {
   "cell_type": "code",
   "execution_count": 49,
   "id": "d65c694b",
   "metadata": {},
   "outputs": [
    {
     "name": "stdout",
     "output_type": "stream",
     "text": [
      "Accuracy for C=-6, penalty=l1: 0.725\n",
      "Accuracy for C=-6, penalty=l2: 0.725\n",
      "Accuracy for C=-5, penalty=l1: 0.725\n",
      "Accuracy for C=-5, penalty=l2: 0.725\n",
      "Accuracy for C=-4, penalty=l1: 0.725\n",
      "Accuracy for C=-4, penalty=l2: 0.725\n",
      "Accuracy for C=-3, penalty=l1: 0.725\n",
      "Accuracy for C=-3, penalty=l2: 0.7375\n",
      "Accuracy for C=-2, penalty=l1: 0.725\n",
      "Accuracy for C=-2, penalty=l2: 0.7625\n",
      "Accuracy for C=-1, penalty=l1: 0.925\n",
      "Accuracy for C=-1, penalty=l2: 0.825\n",
      "Accuracy for C=0, penalty=l1: 0.925\n",
      "Accuracy for C=0, penalty=l2: 0.7875\n",
      "Accuracy for C=1, penalty=l1: 0.925\n",
      "Accuracy for C=1, penalty=l2: 0.9125\n",
      "Accuracy for C=2, penalty=l1: 0.925\n",
      "Accuracy for C=2, penalty=l2: 0.9125\n",
      "Accuracy for C=3, penalty=l1: 0.9125\n",
      "Accuracy for C=3, penalty=l2: 0.9125\n",
      "Accuracy for C=4, penalty=l1: 0.9125\n",
      "Accuracy for C=4, penalty=l2: 0.9125\n",
      "Accuracy for C=5, penalty=l1: 0.925\n",
      "Accuracy for C=5, penalty=l2: 0.9125\n",
      "Accuracy for C=6, penalty=l1: 0.9125\n",
      "Accuracy for C=6, penalty=l2: 0.9125\n"
     ]
    }
   ],
   "source": [
    "C = [-6,-5,-4,-3,-2,-1,0,1,2,3,4,5,6]\n",
    "penalties = ['l1', 'l2']\n",
    "\n",
    "for i in range(len(C)):\n",
    "    for j in range(len(penalties)):\n",
    "        clf = LogisticRegression(penalty=penalties[j], C=10**C[i], solver='liblinear')\n",
    "        clf.fit(X_train1, y_train1)\n",
    "        pre = clf.predict(X_test1)\n",
    "        \n",
    "        acc = accuracy_score(y_test1, pre)\n",
    "        print(f\"Accuracy for C={C[i]}, penalty={penalties[j]}: {acc}\")\n",
    "print(Accuracy)"
   ]
  },
  {
   "cell_type": "code",
   "execution_count": 51,
   "id": "3fab1e32",
   "metadata": {},
   "outputs": [],
   "source": [
    "from sklearn.preprocessing import MinMaxScaler\n",
    "scaler=MinMaxScaler()"
   ]
  },
  {
   "cell_type": "code",
   "execution_count": 53,
   "id": "a6fa80bf",
   "metadata": {},
   "outputs": [
    {
     "name": "stderr",
     "output_type": "stream",
     "text": [
      "C:\\Users\\parth\\AppData\\Local\\Temp\\ipykernel_19800\\3714000637.py:1: SettingWithCopyWarning: \n",
      "A value is trying to be set on a copy of a slice from a DataFrame.\n",
      "Try using .loc[row_indexer,col_indexer] = value instead\n",
      "\n",
      "See the caveats in the documentation: https://pandas.pydata.org/pandas-docs/stable/user_guide/indexing.html#returning-a-view-versus-a-copy\n",
      "  X[[\"Age\"]] = scaler.fit_transform(X[[\"Age\"]])\n"
     ]
    }
   ],
   "source": [
    "X[[\"Age\"]] = scaler.fit_transform(X[[\"Age\"]])"
   ]
  },
  {
   "cell_type": "code",
   "execution_count": 57,
   "id": "636182d6",
   "metadata": {},
   "outputs": [
    {
     "name": "stderr",
     "output_type": "stream",
     "text": [
      "C:\\Users\\parth\\AppData\\Local\\Temp\\ipykernel_19800\\2040456775.py:1: SettingWithCopyWarning: \n",
      "A value is trying to be set on a copy of a slice from a DataFrame.\n",
      "Try using .loc[row_indexer,col_indexer] = value instead\n",
      "\n",
      "See the caveats in the documentation: https://pandas.pydata.org/pandas-docs/stable/user_guide/indexing.html#returning-a-view-versus-a-copy\n",
      "  X[[\"EstimatedSalary\"]] = scaler.fit_transform(X[[\"EstimatedSalary\"]])\n"
     ]
    }
   ],
   "source": [
    "X[[\"EstimatedSalary\"]] = scaler.fit_transform(X[[\"EstimatedSalary\"]])"
   ]
  },
  {
   "cell_type": "code",
   "execution_count": 58,
   "id": "3e8736f3",
   "metadata": {},
   "outputs": [
    {
     "data": {
      "text/html": [
       "<div>\n",
       "<style scoped>\n",
       "    .dataframe tbody tr th:only-of-type {\n",
       "        vertical-align: middle;\n",
       "    }\n",
       "\n",
       "    .dataframe tbody tr th {\n",
       "        vertical-align: top;\n",
       "    }\n",
       "\n",
       "    .dataframe thead th {\n",
       "        text-align: right;\n",
       "    }\n",
       "</style>\n",
       "<table border=\"1\" class=\"dataframe\">\n",
       "  <thead>\n",
       "    <tr style=\"text-align: right;\">\n",
       "      <th></th>\n",
       "      <th>Gender</th>\n",
       "      <th>Age</th>\n",
       "      <th>EstimatedSalary</th>\n",
       "    </tr>\n",
       "  </thead>\n",
       "  <tbody>\n",
       "    <tr>\n",
       "      <th>0</th>\n",
       "      <td>1</td>\n",
       "      <td>0.023810</td>\n",
       "      <td>0.029630</td>\n",
       "    </tr>\n",
       "    <tr>\n",
       "      <th>1</th>\n",
       "      <td>1</td>\n",
       "      <td>0.404762</td>\n",
       "      <td>0.037037</td>\n",
       "    </tr>\n",
       "    <tr>\n",
       "      <th>2</th>\n",
       "      <td>0</td>\n",
       "      <td>0.190476</td>\n",
       "      <td>0.207407</td>\n",
       "    </tr>\n",
       "    <tr>\n",
       "      <th>3</th>\n",
       "      <td>0</td>\n",
       "      <td>0.214286</td>\n",
       "      <td>0.311111</td>\n",
       "    </tr>\n",
       "    <tr>\n",
       "      <th>4</th>\n",
       "      <td>1</td>\n",
       "      <td>0.023810</td>\n",
       "      <td>0.451852</td>\n",
       "    </tr>\n",
       "    <tr>\n",
       "      <th>...</th>\n",
       "      <td>...</td>\n",
       "      <td>...</td>\n",
       "      <td>...</td>\n",
       "    </tr>\n",
       "    <tr>\n",
       "      <th>395</th>\n",
       "      <td>0</td>\n",
       "      <td>0.666667</td>\n",
       "      <td>0.192593</td>\n",
       "    </tr>\n",
       "    <tr>\n",
       "      <th>396</th>\n",
       "      <td>1</td>\n",
       "      <td>0.785714</td>\n",
       "      <td>0.059259</td>\n",
       "    </tr>\n",
       "    <tr>\n",
       "      <th>397</th>\n",
       "      <td>0</td>\n",
       "      <td>0.761905</td>\n",
       "      <td>0.037037</td>\n",
       "    </tr>\n",
       "    <tr>\n",
       "      <th>398</th>\n",
       "      <td>1</td>\n",
       "      <td>0.428571</td>\n",
       "      <td>0.133333</td>\n",
       "    </tr>\n",
       "    <tr>\n",
       "      <th>399</th>\n",
       "      <td>0</td>\n",
       "      <td>0.738095</td>\n",
       "      <td>0.155556</td>\n",
       "    </tr>\n",
       "  </tbody>\n",
       "</table>\n",
       "<p>400 rows × 3 columns</p>\n",
       "</div>"
      ],
      "text/plain": [
       "     Gender       Age  EstimatedSalary\n",
       "0         1  0.023810         0.029630\n",
       "1         1  0.404762         0.037037\n",
       "2         0  0.190476         0.207407\n",
       "3         0  0.214286         0.311111\n",
       "4         1  0.023810         0.451852\n",
       "..      ...       ...              ...\n",
       "395       0  0.666667         0.192593\n",
       "396       1  0.785714         0.059259\n",
       "397       0  0.761905         0.037037\n",
       "398       1  0.428571         0.133333\n",
       "399       0  0.738095         0.155556\n",
       "\n",
       "[400 rows x 3 columns]"
      ]
     },
     "execution_count": 58,
     "metadata": {},
     "output_type": "execute_result"
    }
   ],
   "source": [
    "X"
   ]
  },
  {
   "cell_type": "code",
   "execution_count": 85,
   "id": "1d6173e7",
   "metadata": {},
   "outputs": [
    {
     "name": "stdout",
     "output_type": "stream",
     "text": [
      "Accuracy for C=-6, penalty=l1: \n",
      "Accuracy for C=-6, penalty=l1: \n",
      "Accuracy for C=-6, penalty=l1: \n",
      "Accuracy for C=-6, penalty=l1: \n",
      "Accuracy for C=-6, penalty=l2: \n",
      "Accuracy for C=-6, penalty=l2: \n",
      "Accuracy for C=-6, penalty=l2: \n",
      "Accuracy for C=-6, penalty=l2: \n",
      "Accuracy for C=-5, penalty=l1: \n",
      "Accuracy for C=-5, penalty=l1: \n",
      "Accuracy for C=-5, penalty=l1: \n",
      "Accuracy for C=-5, penalty=l1: \n",
      "Accuracy for C=-5, penalty=l2: \n",
      "Accuracy for C=-5, penalty=l2: \n",
      "Accuracy for C=-5, penalty=l2: \n",
      "Accuracy for C=-5, penalty=l2: \n",
      "Accuracy for C=-4, penalty=l1: \n",
      "Accuracy for C=-4, penalty=l1: \n",
      "Accuracy for C=-4, penalty=l1: \n",
      "Accuracy for C=-4, penalty=l1: \n",
      "Accuracy for C=-4, penalty=l2: \n",
      "Accuracy for C=-4, penalty=l2: \n",
      "Accuracy for C=-4, penalty=l2: \n",
      "Accuracy for C=-4, penalty=l2: \n",
      "Accuracy for C=-3, penalty=l1: \n",
      "Accuracy for C=-3, penalty=l1: \n",
      "Accuracy for C=-3, penalty=l1: \n",
      "Accuracy for C=-3, penalty=l1: \n",
      "Accuracy for C=-3, penalty=l2: \n",
      "Accuracy for C=-3, penalty=l2: \n",
      "Accuracy for C=-3, penalty=l2: \n",
      "Accuracy for C=-3, penalty=l2: \n",
      "Accuracy for C=-2, penalty=l1: \n",
      "Accuracy for C=-2, penalty=l1: \n",
      "Accuracy for C=-2, penalty=l1: \n",
      "Accuracy for C=-2, penalty=l1: \n",
      "Accuracy for C=-2, penalty=l2: \n",
      "Accuracy for C=-2, penalty=l2: \n",
      "Accuracy for C=-2, penalty=l2: \n",
      "Accuracy for C=-2, penalty=l2: \n",
      "Accuracy for C=-1, penalty=l1: \n",
      "Accuracy for C=-1, penalty=l1: \n",
      "Accuracy for C=-1, penalty=l1: \n",
      "Accuracy for C=-1, penalty=l1: \n",
      "Accuracy for C=-1, penalty=l2: \n",
      "Accuracy for C=-1, penalty=l2: \n",
      "Accuracy for C=-1, penalty=l2: \n",
      "Accuracy for C=-1, penalty=l2: \n",
      "Accuracy for C=0, penalty=l1: \n",
      "Accuracy for C=0, penalty=l1: \n",
      "Accuracy for C=0, penalty=l1: \n",
      "Accuracy for C=0, penalty=l1: \n",
      "Accuracy for C=0, penalty=l2: \n",
      "Accuracy for C=0, penalty=l2: \n",
      "Accuracy for C=0, penalty=l2: \n",
      "Accuracy for C=0, penalty=l2: \n",
      "Accuracy for C=1, penalty=l1: \n",
      "Accuracy for C=1, penalty=l1: \n",
      "Accuracy for C=1, penalty=l1: \n",
      "Accuracy for C=1, penalty=l1: \n",
      "Accuracy for C=1, penalty=l2: \n",
      "Accuracy for C=1, penalty=l2: \n",
      "Accuracy for C=1, penalty=l2: \n",
      "Accuracy for C=1, penalty=l2: \n",
      "Accuracy for C=2, penalty=l1: \n",
      "Accuracy for C=2, penalty=l1: \n",
      "Accuracy for C=2, penalty=l1: \n",
      "Accuracy for C=2, penalty=l1: \n",
      "Accuracy for C=2, penalty=l2: \n",
      "Accuracy for C=2, penalty=l2: \n",
      "Accuracy for C=2, penalty=l2: \n",
      "Accuracy for C=2, penalty=l2: \n",
      "Accuracy for C=3, penalty=l1: \n",
      "Accuracy for C=3, penalty=l1: \n",
      "Accuracy for C=3, penalty=l1: \n",
      "Accuracy for C=3, penalty=l1: \n",
      "Accuracy for C=3, penalty=l2: \n",
      "Accuracy for C=3, penalty=l2: \n",
      "Accuracy for C=3, penalty=l2: \n",
      "Accuracy for C=3, penalty=l2: \n",
      "Accuracy for C=4, penalty=l1: \n",
      "Accuracy for C=4, penalty=l1: \n",
      "Accuracy for C=4, penalty=l1: \n",
      "Accuracy for C=4, penalty=l1: \n",
      "Accuracy for C=4, penalty=l2: \n",
      "Accuracy for C=4, penalty=l2: \n",
      "Accuracy for C=4, penalty=l2: \n",
      "Accuracy for C=4, penalty=l2: \n",
      "Accuracy for C=5, penalty=l1: \n",
      "Accuracy for C=5, penalty=l1: \n",
      "Accuracy for C=5, penalty=l1: \n",
      "Accuracy for C=5, penalty=l1: \n",
      "Accuracy for C=5, penalty=l2: \n",
      "Accuracy for C=5, penalty=l2: \n",
      "Accuracy for C=5, penalty=l2: \n",
      "Accuracy for C=5, penalty=l2: \n",
      "Accuracy for C=6, penalty=l1: \n",
      "Accuracy for C=6, penalty=l1: \n",
      "Accuracy for C=6, penalty=l1: \n",
      "Accuracy for C=6, penalty=l1: \n",
      "Accuracy for C=6, penalty=l2: \n",
      "Accuracy for C=6, penalty=l2: \n",
      "Accuracy for C=6, penalty=l2: \n",
      "Accuracy for C=6, penalty=l2: \n",
      "The max value is:0.925\n"
     ]
    }
   ],
   "source": [
    "C = [-6,-5,-4,-3,-2,-1,0,1,2,3,4,5,6]\n",
    "penalties = ['l1', 'l2']\n",
    "max_iter_lst = [10,50,100,500]\n",
    "a=[]\n",
    "for i in range(len(C)):\n",
    "    for j in range(len(penalties)):\n",
    "        for k in range(len(max_iter_lst)):\n",
    "            clf = LogisticRegression(penalty=penalties[j], C=10**C[i], solver='liblinear')\n",
    "            clf.fit(X_train1, y_train1)\n",
    "            pre = clf.predict(X_test1)\n",
    "\n",
    "            acc = accuracy_score(y_test1, pre)\n",
    "            a.append(acc)\n",
    "            print(f\"Accuracy for C={C[i]}, penalty={penalties[j]}: \")\n",
    "print(f\"The max value is:{max(a)}\")\n"
   ]
  },
  {
   "cell_type": "code",
   "execution_count": null,
   "id": "7d74d381",
   "metadata": {},
   "outputs": [],
   "source": []
  }
 ],
 "metadata": {
  "kernelspec": {
   "display_name": "Python 3 (ipykernel)",
   "language": "python",
   "name": "python3"
  },
  "language_info": {
   "codemirror_mode": {
    "name": "ipython",
    "version": 3
   },
   "file_extension": ".py",
   "mimetype": "text/x-python",
   "name": "python",
   "nbconvert_exporter": "python",
   "pygments_lexer": "ipython3",
   "version": "3.9.13"
  }
 },
 "nbformat": 4,
 "nbformat_minor": 5
}
