{
  "nbformat": 4,
  "nbformat_minor": 0,
  "metadata": {
    "colab": {
      "provenance": []
    },
    "kernelspec": {
      "name": "python3",
      "display_name": "Python 3"
    },
    "language_info": {
      "name": "python"
    }
  },
  "cells": [
    {
      "cell_type": "code",
      "execution_count": 1,
      "metadata": {
        "id": "gpB4AI_GxLEt"
      },
      "outputs": [],
      "source": [
        "import pandas as pd"
      ]
    },
    {
      "cell_type": "code",
      "source": [
        "df = pd.read_csv('spam_or_not_spam.csv')"
      ],
      "metadata": {
        "id": "BoopXMhCzh4-"
      },
      "execution_count": 2,
      "outputs": []
    },
    {
      "cell_type": "code",
      "source": [
        "df.head(5)"
      ],
      "metadata": {
        "colab": {
          "base_uri": "https://localhost:8080/",
          "height": 206
        },
        "id": "v8YqmXFqzn3Y",
        "outputId": "79134c33-eb04-457a-8e9c-8c4e0a35cd31"
      },
      "execution_count": 3,
      "outputs": [
        {
          "output_type": "execute_result",
          "data": {
            "text/plain": [
              "                                               email  label\n",
              "0   date wed NUMBER aug NUMBER NUMBER NUMBER NUMB...      0\n",
              "1  martin a posted tassos papadopoulos the greek ...      0\n",
              "2  man threatens explosion in moscow thursday aug...      0\n",
              "3  klez the virus that won t die already the most...      0\n",
              "4   in adding cream to spaghetti carbonara which ...      0"
            ],
            "text/html": [
              "\n",
              "  <div id=\"df-c8cb4bb5-2080-40b4-a464-b4ed57b989f9\">\n",
              "    <div class=\"colab-df-container\">\n",
              "      <div>\n",
              "<style scoped>\n",
              "    .dataframe tbody tr th:only-of-type {\n",
              "        vertical-align: middle;\n",
              "    }\n",
              "\n",
              "    .dataframe tbody tr th {\n",
              "        vertical-align: top;\n",
              "    }\n",
              "\n",
              "    .dataframe thead th {\n",
              "        text-align: right;\n",
              "    }\n",
              "</style>\n",
              "<table border=\"1\" class=\"dataframe\">\n",
              "  <thead>\n",
              "    <tr style=\"text-align: right;\">\n",
              "      <th></th>\n",
              "      <th>email</th>\n",
              "      <th>label</th>\n",
              "    </tr>\n",
              "  </thead>\n",
              "  <tbody>\n",
              "    <tr>\n",
              "      <th>0</th>\n",
              "      <td>date wed NUMBER aug NUMBER NUMBER NUMBER NUMB...</td>\n",
              "      <td>0</td>\n",
              "    </tr>\n",
              "    <tr>\n",
              "      <th>1</th>\n",
              "      <td>martin a posted tassos papadopoulos the greek ...</td>\n",
              "      <td>0</td>\n",
              "    </tr>\n",
              "    <tr>\n",
              "      <th>2</th>\n",
              "      <td>man threatens explosion in moscow thursday aug...</td>\n",
              "      <td>0</td>\n",
              "    </tr>\n",
              "    <tr>\n",
              "      <th>3</th>\n",
              "      <td>klez the virus that won t die already the most...</td>\n",
              "      <td>0</td>\n",
              "    </tr>\n",
              "    <tr>\n",
              "      <th>4</th>\n",
              "      <td>in adding cream to spaghetti carbonara which ...</td>\n",
              "      <td>0</td>\n",
              "    </tr>\n",
              "  </tbody>\n",
              "</table>\n",
              "</div>\n",
              "      <button class=\"colab-df-convert\" onclick=\"convertToInteractive('df-c8cb4bb5-2080-40b4-a464-b4ed57b989f9')\"\n",
              "              title=\"Convert this dataframe to an interactive table.\"\n",
              "              style=\"display:none;\">\n",
              "        \n",
              "  <svg xmlns=\"http://www.w3.org/2000/svg\" height=\"24px\"viewBox=\"0 0 24 24\"\n",
              "       width=\"24px\">\n",
              "    <path d=\"M0 0h24v24H0V0z\" fill=\"none\"/>\n",
              "    <path d=\"M18.56 5.44l.94 2.06.94-2.06 2.06-.94-2.06-.94-.94-2.06-.94 2.06-2.06.94zm-11 1L8.5 8.5l.94-2.06 2.06-.94-2.06-.94L8.5 2.5l-.94 2.06-2.06.94zm10 10l.94 2.06.94-2.06 2.06-.94-2.06-.94-.94-2.06-.94 2.06-2.06.94z\"/><path d=\"M17.41 7.96l-1.37-1.37c-.4-.4-.92-.59-1.43-.59-.52 0-1.04.2-1.43.59L10.3 9.45l-7.72 7.72c-.78.78-.78 2.05 0 2.83L4 21.41c.39.39.9.59 1.41.59.51 0 1.02-.2 1.41-.59l7.78-7.78 2.81-2.81c.8-.78.8-2.07 0-2.86zM5.41 20L4 18.59l7.72-7.72 1.47 1.35L5.41 20z\"/>\n",
              "  </svg>\n",
              "      </button>\n",
              "      \n",
              "  <style>\n",
              "    .colab-df-container {\n",
              "      display:flex;\n",
              "      flex-wrap:wrap;\n",
              "      gap: 12px;\n",
              "    }\n",
              "\n",
              "    .colab-df-convert {\n",
              "      background-color: #E8F0FE;\n",
              "      border: none;\n",
              "      border-radius: 50%;\n",
              "      cursor: pointer;\n",
              "      display: none;\n",
              "      fill: #1967D2;\n",
              "      height: 32px;\n",
              "      padding: 0 0 0 0;\n",
              "      width: 32px;\n",
              "    }\n",
              "\n",
              "    .colab-df-convert:hover {\n",
              "      background-color: #E2EBFA;\n",
              "      box-shadow: 0px 1px 2px rgba(60, 64, 67, 0.3), 0px 1px 3px 1px rgba(60, 64, 67, 0.15);\n",
              "      fill: #174EA6;\n",
              "    }\n",
              "\n",
              "    [theme=dark] .colab-df-convert {\n",
              "      background-color: #3B4455;\n",
              "      fill: #D2E3FC;\n",
              "    }\n",
              "\n",
              "    [theme=dark] .colab-df-convert:hover {\n",
              "      background-color: #434B5C;\n",
              "      box-shadow: 0px 1px 3px 1px rgba(0, 0, 0, 0.15);\n",
              "      filter: drop-shadow(0px 1px 2px rgba(0, 0, 0, 0.3));\n",
              "      fill: #FFFFFF;\n",
              "    }\n",
              "  </style>\n",
              "\n",
              "      <script>\n",
              "        const buttonEl =\n",
              "          document.querySelector('#df-c8cb4bb5-2080-40b4-a464-b4ed57b989f9 button.colab-df-convert');\n",
              "        buttonEl.style.display =\n",
              "          google.colab.kernel.accessAllowed ? 'block' : 'none';\n",
              "\n",
              "        async function convertToInteractive(key) {\n",
              "          const element = document.querySelector('#df-c8cb4bb5-2080-40b4-a464-b4ed57b989f9');\n",
              "          const dataTable =\n",
              "            await google.colab.kernel.invokeFunction('convertToInteractive',\n",
              "                                                     [key], {});\n",
              "          if (!dataTable) return;\n",
              "\n",
              "          const docLinkHtml = 'Like what you see? Visit the ' +\n",
              "            '<a target=\"_blank\" href=https://colab.research.google.com/notebooks/data_table.ipynb>data table notebook</a>'\n",
              "            + ' to learn more about interactive tables.';\n",
              "          element.innerHTML = '';\n",
              "          dataTable['output_type'] = 'display_data';\n",
              "          await google.colab.output.renderOutput(dataTable, element);\n",
              "          const docLink = document.createElement('div');\n",
              "          docLink.innerHTML = docLinkHtml;\n",
              "          element.appendChild(docLink);\n",
              "        }\n",
              "      </script>\n",
              "    </div>\n",
              "  </div>\n",
              "  "
            ]
          },
          "metadata": {},
          "execution_count": 3
        }
      ]
    },
    {
      "cell_type": "code",
      "source": [
        "df.isna().sum()"
      ],
      "metadata": {
        "colab": {
          "base_uri": "https://localhost:8080/"
        },
        "id": "dNaejwdnzq7U",
        "outputId": "452ea366-7b3d-483d-b591-cb58512d5358"
      },
      "execution_count": null,
      "outputs": [
        {
          "output_type": "execute_result",
          "data": {
            "text/plain": [
              "email    1\n",
              "label    0\n",
              "dtype: int64"
            ]
          },
          "metadata": {},
          "execution_count": 4
        }
      ]
    },
    {
      "cell_type": "code",
      "source": [
        "df = df.dropna(subset = ['email','label'])"
      ],
      "metadata": {
        "id": "bIu8g0Yz0GRS"
      },
      "execution_count": null,
      "outputs": []
    },
    {
      "cell_type": "code",
      "source": [
        "df.isna().sum()"
      ],
      "metadata": {
        "colab": {
          "base_uri": "https://localhost:8080/"
        },
        "id": "NUvBreIF0WB4",
        "outputId": "21f8b073-190f-4fd9-ad67-a40e4b45a081"
      },
      "execution_count": null,
      "outputs": [
        {
          "output_type": "execute_result",
          "data": {
            "text/plain": [
              "email    0\n",
              "label    0\n",
              "dtype: int64"
            ]
          },
          "metadata": {},
          "execution_count": 6
        }
      ]
    },
    {
      "cell_type": "markdown",
      "source": [
        "#Remove punctuations"
      ],
      "metadata": {
        "id": "ZX3aVSyz0chO"
      }
    },
    {
      "cell_type": "code",
      "source": [
        "import string"
      ],
      "metadata": {
        "id": "KKA1ZyOz0YUz"
      },
      "execution_count": 7,
      "outputs": []
    },
    {
      "cell_type": "code",
      "source": [
        "string.punctuation"
      ],
      "metadata": {
        "colab": {
          "base_uri": "https://localhost:8080/",
          "height": 35
        },
        "id": "Oijd0YNF0z_V",
        "outputId": "3aa5ea0c-9190-4bfc-c2af-45f78b85bad9"
      },
      "execution_count": 8,
      "outputs": [
        {
          "output_type": "execute_result",
          "data": {
            "text/plain": [
              "'!\"#$%&\\'()*+,-./:;<=>?@[\\\\]^_`{|}~'"
            ],
            "application/vnd.google.colaboratory.intrinsic+json": {
              "type": "string"
            }
          },
          "metadata": {},
          "execution_count": 8
        }
      ]
    },
    {
      "cell_type": "code",
      "source": [
        "s = \"Hi ! How are you?\\'()*+,-./:;<=>?@[\\\\]^_`{|}~\""
      ],
      "metadata": {
        "id": "5KB1aMvT023f"
      },
      "execution_count": 9,
      "outputs": []
    },
    {
      "cell_type": "code",
      "source": [
        "s = s.translate(str.maketrans('', '', string.punctuation))"
      ],
      "metadata": {
        "id": "Xo0SEYLJ1Wre"
      },
      "execution_count": 10,
      "outputs": []
    },
    {
      "cell_type": "code",
      "source": [
        "print(s)"
      ],
      "metadata": {
        "colab": {
          "base_uri": "https://localhost:8080/"
        },
        "id": "7_h0rhWB1cbD",
        "outputId": "2004f1ee-9617-4a2d-d397-8c34798b6bb4"
      },
      "execution_count": 11,
      "outputs": [
        {
          "output_type": "stream",
          "name": "stdout",
          "text": [
            "Hi  How are you\n"
          ]
        }
      ]
    },
    {
      "cell_type": "markdown",
      "source": [
        "#Convert multiple whitespaces to single spaces"
      ],
      "metadata": {
        "id": "vWm7k8kg2Gqa"
      }
    },
    {
      "cell_type": "code",
      "source": [
        "print(s)"
      ],
      "metadata": {
        "colab": {
          "base_uri": "https://localhost:8080/"
        },
        "id": "NZrcjI5J1dZI",
        "outputId": "682759f2-1920-47a2-9b8b-87a3c975872c"
      },
      "execution_count": null,
      "outputs": [
        {
          "output_type": "stream",
          "name": "stdout",
          "text": [
            "Hi  How are you\n"
          ]
        }
      ]
    },
    {
      "cell_type": "code",
      "source": [
        "s = ' '.join(s.split())"
      ],
      "metadata": {
        "id": "5wZ1TB4p2MFB"
      },
      "execution_count": null,
      "outputs": []
    },
    {
      "cell_type": "code",
      "source": [
        "print(s)"
      ],
      "metadata": {
        "colab": {
          "base_uri": "https://localhost:8080/"
        },
        "id": "BaZ1q2KV2PvS",
        "outputId": "2a2a808b-40f0-47f7-82e9-2dde2fb921a5"
      },
      "execution_count": null,
      "outputs": [
        {
          "output_type": "stream",
          "name": "stdout",
          "text": [
            "Hi How are you\n"
          ]
        }
      ]
    },
    {
      "cell_type": "markdown",
      "source": [
        "#Convert to lowercase"
      ],
      "metadata": {
        "id": "Uj6WedpN7Hla"
      }
    },
    {
      "cell_type": "code",
      "source": [
        "s = s.lower()"
      ],
      "metadata": {
        "id": "nvE285C62RXS"
      },
      "execution_count": null,
      "outputs": []
    },
    {
      "cell_type": "code",
      "source": [
        "print(s)"
      ],
      "metadata": {
        "colab": {
          "base_uri": "https://localhost:8080/"
        },
        "id": "H09QK9N32g3K",
        "outputId": "581e7469-5058-423a-d57c-48f272fea84b"
      },
      "execution_count": null,
      "outputs": [
        {
          "output_type": "stream",
          "name": "stdout",
          "text": [
            "hi how are you\n"
          ]
        }
      ]
    },
    {
      "cell_type": "markdown",
      "source": [
        "#Remove stopwords"
      ],
      "metadata": {
        "id": "rxGodEv93TQi"
      }
    },
    {
      "cell_type": "code",
      "source": [
        "import nltk"
      ],
      "metadata": {
        "id": "QLsiBK2a32AB"
      },
      "execution_count": 12,
      "outputs": []
    },
    {
      "cell_type": "code",
      "source": [
        "from nltk.corpus import stopwords"
      ],
      "metadata": {
        "id": "lb0CJs5J3Sot"
      },
      "execution_count": 13,
      "outputs": []
    },
    {
      "cell_type": "code",
      "source": [
        "nltk.download('stopwords')"
      ],
      "metadata": {
        "colab": {
          "base_uri": "https://localhost:8080/"
        },
        "id": "BRlzgrCu3xtc",
        "outputId": "ff00dc82-bb5a-43f6-fdd2-cb28d3f6df38"
      },
      "execution_count": 14,
      "outputs": [
        {
          "output_type": "stream",
          "name": "stderr",
          "text": [
            "[nltk_data] Downloading package stopwords to /root/nltk_data...\n",
            "[nltk_data]   Unzipping corpora/stopwords.zip.\n"
          ]
        },
        {
          "output_type": "execute_result",
          "data": {
            "text/plain": [
              "True"
            ]
          },
          "metadata": {},
          "execution_count": 14
        }
      ]
    },
    {
      "cell_type": "code",
      "source": [
        "stop_words = list(set(stopwords.words('english')))"
      ],
      "metadata": {
        "id": "I6F6CxCA2iUL"
      },
      "execution_count": 15,
      "outputs": []
    },
    {
      "cell_type": "code",
      "source": [
        "stop_words"
      ],
      "metadata": {
        "colab": {
          "base_uri": "https://localhost:8080/"
        },
        "id": "D2fyKpjO3tfW",
        "outputId": "9a44cf65-f9d2-4a56-8750-34b146352a88"
      },
      "execution_count": 16,
      "outputs": [
        {
          "output_type": "execute_result",
          "data": {
            "text/plain": [
              "['from',\n",
              " 'before',\n",
              " 'weren',\n",
              " 'the',\n",
              " 'of',\n",
              " 'm',\n",
              " \"it's\",\n",
              " 'we',\n",
              " 'only',\n",
              " 'down',\n",
              " \"shouldn't\",\n",
              " \"hasn't\",\n",
              " 'ain',\n",
              " 'when',\n",
              " 'no',\n",
              " \"doesn't\",\n",
              " 'each',\n",
              " 'nor',\n",
              " 'for',\n",
              " 'whom',\n",
              " 'such',\n",
              " \"didn't\",\n",
              " 'he',\n",
              " 'won',\n",
              " 'haven',\n",
              " 'isn',\n",
              " 'doing',\n",
              " 'there',\n",
              " 'been',\n",
              " 'did',\n",
              " 'if',\n",
              " 'other',\n",
              " 'below',\n",
              " 'further',\n",
              " 'during',\n",
              " 'wouldn',\n",
              " 'not',\n",
              " 'and',\n",
              " 'its',\n",
              " 'through',\n",
              " 'should',\n",
              " \"weren't\",\n",
              " \"won't\",\n",
              " 'hasn',\n",
              " \"isn't\",\n",
              " 'am',\n",
              " 'didn',\n",
              " 'ourselves',\n",
              " \"she's\",\n",
              " 'wasn',\n",
              " \"don't\",\n",
              " 'is',\n",
              " 'which',\n",
              " 'about',\n",
              " 'herself',\n",
              " 'you',\n",
              " 'these',\n",
              " 'but',\n",
              " 's',\n",
              " 'do',\n",
              " 'or',\n",
              " 'me',\n",
              " 've',\n",
              " 'at',\n",
              " 'any',\n",
              " 'what',\n",
              " 'more',\n",
              " 'very',\n",
              " 'few',\n",
              " 'myself',\n",
              " 'ma',\n",
              " 'those',\n",
              " 'having',\n",
              " 'a',\n",
              " 't',\n",
              " 'o',\n",
              " 'up',\n",
              " 'she',\n",
              " 'himself',\n",
              " 'just',\n",
              " 'between',\n",
              " 'were',\n",
              " \"hadn't\",\n",
              " 'how',\n",
              " 'too',\n",
              " 'against',\n",
              " \"couldn't\",\n",
              " 'over',\n",
              " 'under',\n",
              " 'mustn',\n",
              " 'are',\n",
              " 'until',\n",
              " 'to',\n",
              " 'her',\n",
              " 'our',\n",
              " 'theirs',\n",
              " 'can',\n",
              " \"should've\",\n",
              " 'that',\n",
              " 'once',\n",
              " 'hers',\n",
              " 'after',\n",
              " \"mustn't\",\n",
              " 'll',\n",
              " \"haven't\",\n",
              " 'will',\n",
              " 'an',\n",
              " 'd',\n",
              " \"that'll\",\n",
              " 'yourself',\n",
              " 'him',\n",
              " 'had',\n",
              " 'same',\n",
              " 'most',\n",
              " \"you're\",\n",
              " 'don',\n",
              " \"mightn't\",\n",
              " 'being',\n",
              " \"wasn't\",\n",
              " 'doesn',\n",
              " 'shouldn',\n",
              " 'my',\n",
              " 'so',\n",
              " 'then',\n",
              " 'off',\n",
              " 'yourselves',\n",
              " 'ours',\n",
              " 'who',\n",
              " 'needn',\n",
              " 'be',\n",
              " 'all',\n",
              " 'now',\n",
              " 'they',\n",
              " 'own',\n",
              " \"aren't\",\n",
              " \"you've\",\n",
              " 'because',\n",
              " 'itself',\n",
              " 'have',\n",
              " 'his',\n",
              " 'here',\n",
              " 'themselves',\n",
              " 'with',\n",
              " 'out',\n",
              " 'does',\n",
              " 'mightn',\n",
              " 'was',\n",
              " 'aren',\n",
              " 'by',\n",
              " 'as',\n",
              " 'above',\n",
              " 'into',\n",
              " 'while',\n",
              " \"shan't\",\n",
              " \"wouldn't\",\n",
              " 'again',\n",
              " \"you'll\",\n",
              " 'this',\n",
              " \"needn't\",\n",
              " 'them',\n",
              " 'i',\n",
              " 'on',\n",
              " 'y',\n",
              " 'shan',\n",
              " 'hadn',\n",
              " 'where',\n",
              " 'in',\n",
              " 'some',\n",
              " 'your',\n",
              " 'why',\n",
              " 'both',\n",
              " \"you'd\",\n",
              " 'than',\n",
              " 'couldn',\n",
              " 're',\n",
              " 'it',\n",
              " 'their',\n",
              " 'has',\n",
              " 'yours']"
            ]
          },
          "metadata": {},
          "execution_count": 16
        }
      ]
    },
    {
      "cell_type": "code",
      "source": [
        "s1 = 'this is sentence i am from brainybeam'"
      ],
      "metadata": {
        "id": "NPZ2VLB737sQ"
      },
      "execution_count": null,
      "outputs": []
    },
    {
      "cell_type": "code",
      "source": [
        "s11 = s1.split()"
      ],
      "metadata": {
        "id": "hChD6u5m4PVq"
      },
      "execution_count": null,
      "outputs": []
    },
    {
      "cell_type": "code",
      "source": [
        "s11"
      ],
      "metadata": {
        "colab": {
          "base_uri": "https://localhost:8080/"
        },
        "id": "hMnC-nqX4VdU",
        "outputId": "7a877783-f01f-4954-c1de-5809450de067"
      },
      "execution_count": null,
      "outputs": [
        {
          "output_type": "execute_result",
          "data": {
            "text/plain": [
              "['this', 'is', 'sentence', 'i', 'am', 'from', 'brainybeam']"
            ]
          },
          "metadata": {},
          "execution_count": 51
        }
      ]
    },
    {
      "cell_type": "code",
      "source": [
        "s_target = ''"
      ],
      "metadata": {
        "id": "cVT77yqo4iwL"
      },
      "execution_count": null,
      "outputs": []
    },
    {
      "cell_type": "code",
      "source": [
        "for i in s11:\n",
        "  if(i not in stop_words):\n",
        "    s_target = s_target + ' '+ i"
      ],
      "metadata": {
        "id": "GwsVUY-W4l1g"
      },
      "execution_count": null,
      "outputs": []
    },
    {
      "cell_type": "code",
      "source": [
        "s_target"
      ],
      "metadata": {
        "colab": {
          "base_uri": "https://localhost:8080/",
          "height": 35
        },
        "id": "LfPLG7cr4qOq",
        "outputId": "f5661500-504a-4577-ea78-7a2d6c682679"
      },
      "execution_count": null,
      "outputs": [
        {
          "output_type": "execute_result",
          "data": {
            "text/plain": [
              "' sentence brainybeam'"
            ],
            "application/vnd.google.colaboratory.intrinsic+json": {
              "type": "string"
            }
          },
          "metadata": {},
          "execution_count": 54
        }
      ]
    },
    {
      "cell_type": "markdown",
      "source": [
        "#Remove tailing spaces"
      ],
      "metadata": {
        "id": "R-OEtGn36SKq"
      }
    },
    {
      "cell_type": "code",
      "source": [
        "s_target = s_target.strip() "
      ],
      "metadata": {
        "id": "VDpb_Wnd5vPn"
      },
      "execution_count": null,
      "outputs": []
    },
    {
      "cell_type": "code",
      "source": [
        "print(s_target)"
      ],
      "metadata": {
        "colab": {
          "base_uri": "https://localhost:8080/"
        },
        "id": "xCWAQ30L6hC6",
        "outputId": "01e2bfbe-2f74-41b0-f33d-9a58686e020e"
      },
      "execution_count": null,
      "outputs": [
        {
          "output_type": "stream",
          "name": "stdout",
          "text": [
            "sentence brainybeam\n"
          ]
        }
      ]
    },
    {
      "cell_type": "code",
      "source": [],
      "metadata": {
        "id": "mzdwlplb9pJm"
      },
      "execution_count": null,
      "outputs": []
    }
  ]
}