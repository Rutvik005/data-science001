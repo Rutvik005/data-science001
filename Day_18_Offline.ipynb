{
  "nbformat": 4,
  "nbformat_minor": 0,
  "metadata": {
    "colab": {
      "provenance": []
    },
    "kernelspec": {
      "name": "python3",
      "display_name": "Python 3"
    },
    "language_info": {
      "name": "python"
    }
  },
  "cells": [
    {
      "cell_type": "code",
      "execution_count": 1,
      "metadata": {
        "id": "2KYolGg9BIPj"
      },
      "outputs": [],
      "source": [
        "import pandas as pd\n",
        "import seaborn as sns\n",
        "import matplotlib.pyplot as plt\n",
        "import numpy as np"
      ]
    },
    {
      "cell_type": "markdown",
      "source": [
        "#Classification"
      ],
      "metadata": {
        "id": "SN1ZuCDEF4Bc"
      }
    },
    {
      "cell_type": "code",
      "source": [
        "y_test = [1,0,1,1,1,1,0,0,1,1]\n",
        "pred   = [1,0,1,0,1,1,0,1,1,0]"
      ],
      "metadata": {
        "id": "M7MTnJ5FCpy-"
      },
      "execution_count": 22,
      "outputs": []
    },
    {
      "cell_type": "code",
      "source": [
        "same_counts = 0\n",
        "l = len(y_test)"
      ],
      "metadata": {
        "id": "vE-w8FAbCvmL"
      },
      "execution_count": 23,
      "outputs": []
    },
    {
      "cell_type": "code",
      "source": [
        "for i in range(l):\n",
        "  if(y_test[i] == pred[i]):\n",
        "    same_counts = same_counts + 1\n",
        "\n",
        "accuracy = same_counts/l\n",
        "print(accuracy)"
      ],
      "metadata": {
        "colab": {
          "base_uri": "https://localhost:8080/"
        },
        "id": "4SdScceXEoGb",
        "outputId": "e067b14d-2826-42d2-a9d2-84df7fedcb2f"
      },
      "execution_count": 24,
      "outputs": [
        {
          "output_type": "stream",
          "name": "stdout",
          "text": [
            "0.7\n"
          ]
        }
      ]
    },
    {
      "cell_type": "code",
      "source": [
        "from sklearn.metrics import accuracy_score\n",
        "accuracy_score(y_test, pred)"
      ],
      "metadata": {
        "colab": {
          "base_uri": "https://localhost:8080/"
        },
        "id": "BT0FmGzXExfN",
        "outputId": "cfe9e382-6055-4762-9d52-3584774c3e9d"
      },
      "execution_count": 25,
      "outputs": [
        {
          "output_type": "execute_result",
          "data": {
            "text/plain": [
              "0.7"
            ]
          },
          "metadata": {},
          "execution_count": 25
        }
      ]
    },
    {
      "cell_type": "markdown",
      "source": [
        "#Regression"
      ],
      "metadata": {
        "id": "H_pTTtPeF6n_"
      }
    },
    {
      "cell_type": "code",
      "source": [
        "y_test = [23,54,18,32]\n",
        "pred   = [24,51,18,31]\n"
      ],
      "metadata": {
        "id": "clib6_lgE0VK"
      },
      "execution_count": 36,
      "outputs": []
    },
    {
      "cell_type": "code",
      "source": [
        "MSE = 0\n",
        "l = len(y_test)"
      ],
      "metadata": {
        "id": "YGOkY-5aE660"
      },
      "execution_count": 37,
      "outputs": []
    },
    {
      "cell_type": "code",
      "source": [
        "for i in range(l):\n",
        "  diff = y_test[i] - pred[i]\n",
        "  diff_sq = diff**2\n",
        "\n",
        "  MSE = MSE + diff_sq"
      ],
      "metadata": {
        "id": "vNGstWxbE-2i"
      },
      "execution_count": 38,
      "outputs": []
    },
    {
      "cell_type": "code",
      "source": [
        "MSE = MSE/l"
      ],
      "metadata": {
        "id": "3pKtCJaAJHCW"
      },
      "execution_count": 39,
      "outputs": []
    },
    {
      "cell_type": "code",
      "source": [
        "print(MSE)"
      ],
      "metadata": {
        "colab": {
          "base_uri": "https://localhost:8080/"
        },
        "id": "9JvL2uUuJbau",
        "outputId": "08661461-d8ec-4c09-8f2d-00153f5fc1af"
      },
      "execution_count": 40,
      "outputs": [
        {
          "output_type": "stream",
          "name": "stdout",
          "text": [
            "1027.5\n"
          ]
        }
      ]
    },
    {
      "cell_type": "code",
      "source": [
        "pred2 = [67,23,45,54]\n",
        "#MSE Will be 1027.5"
      ],
      "metadata": {
        "id": "XhKM-t7MJdYk"
      },
      "execution_count": null,
      "outputs": []
    },
    {
      "cell_type": "code",
      "source": [
        "from sklearn.metrics import mean_squared_error"
      ],
      "metadata": {
        "id": "K-Q5YKImLkca"
      },
      "execution_count": 41,
      "outputs": []
    },
    {
      "cell_type": "code",
      "source": [
        "mean_squared_error(y_test, [24,51,18,31])"
      ],
      "metadata": {
        "colab": {
          "base_uri": "https://localhost:8080/"
        },
        "id": "xrmd4ZzLLk8u",
        "outputId": "9e7258d9-a78f-4410-8531-b92e43d55d9e"
      },
      "execution_count": 42,
      "outputs": [
        {
          "output_type": "execute_result",
          "data": {
            "text/plain": [
              "2.75"
            ]
          },
          "metadata": {},
          "execution_count": 42
        }
      ]
    },
    {
      "cell_type": "code",
      "source": [
        "mean_squared_error(y_test, [67,23,45,54])"
      ],
      "metadata": {
        "colab": {
          "base_uri": "https://localhost:8080/"
        },
        "id": "XuXk46ASLs91",
        "outputId": "6c748be8-38d5-4e04-d567-628b0a4ce5a2"
      },
      "execution_count": 43,
      "outputs": [
        {
          "output_type": "execute_result",
          "data": {
            "text/plain": [
              "1027.5"
            ]
          },
          "metadata": {},
          "execution_count": 43
        }
      ]
    },
    {
      "cell_type": "code",
      "source": [],
      "metadata": {
        "id": "yCvCkJIuL0zn"
      },
      "execution_count": null,
      "outputs": []
    }
  ]
}