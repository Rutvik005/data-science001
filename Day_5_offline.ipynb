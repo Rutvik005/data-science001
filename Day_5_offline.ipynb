{
  "nbformat": 4,
  "nbformat_minor": 0,
  "metadata": {
    "colab": {
      "provenance": []
    },
    "kernelspec": {
      "name": "python3",
      "display_name": "Python 3"
    },
    "language_info": {
      "name": "python"
    }
  },
  "cells": [
    {
      "cell_type": "markdown",
      "source": [
        "#Numpy"
      ],
      "metadata": {
        "id": "2I0Cj-9-4q6u"
      }
    },
    {
      "cell_type": "code",
      "source": [
        "import numpy as np"
      ],
      "metadata": {
        "id": "QCBoAO95xNkx"
      },
      "execution_count": 24,
      "outputs": []
    },
    {
      "cell_type": "code",
      "source": [
        "l =[4,2,5,7,8,5]"
      ],
      "metadata": {
        "id": "LoCQQvq6xN7x"
      },
      "execution_count": 25,
      "outputs": []
    },
    {
      "cell_type": "code",
      "source": [
        "arr = np.array([4,3,5,7,8,6])"
      ],
      "metadata": {
        "id": "95gNPuAlxOt3"
      },
      "execution_count": 26,
      "outputs": []
    },
    {
      "cell_type": "code",
      "source": [
        "print(arr)"
      ],
      "metadata": {
        "colab": {
          "base_uri": "https://localhost:8080/"
        },
        "id": "5zj_b5Zq5M0o",
        "outputId": "27094609-c331-48ee-e691-e9f58dee73de"
      },
      "execution_count": 27,
      "outputs": [
        {
          "output_type": "stream",
          "name": "stdout",
          "text": [
            "[4 3 5 7 8 6]\n"
          ]
        }
      ]
    },
    {
      "cell_type": "code",
      "source": [
        "print(l)"
      ],
      "metadata": {
        "colab": {
          "base_uri": "https://localhost:8080/"
        },
        "id": "RmKrFdSk5O8F",
        "outputId": "03d1c74b-4b2d-48a7-e0dc-d3c181309c24"
      },
      "execution_count": 28,
      "outputs": [
        {
          "output_type": "stream",
          "name": "stdout",
          "text": [
            "[4, 2, 5, 7, 8, 5]\n"
          ]
        }
      ]
    },
    {
      "cell_type": "code",
      "source": [
        "arr = np.array([[1,2,3,4],[5,6,7,8]])"
      ],
      "metadata": {
        "id": "cD5w7skM5S-d"
      },
      "execution_count": 29,
      "outputs": []
    },
    {
      "cell_type": "code",
      "source": [
        "print(arr)"
      ],
      "metadata": {
        "colab": {
          "base_uri": "https://localhost:8080/"
        },
        "id": "FcQofia355LP",
        "outputId": "e588936e-a5c2-4266-ceed-77f654bafe9a"
      },
      "execution_count": 30,
      "outputs": [
        {
          "output_type": "stream",
          "name": "stdout",
          "text": [
            "[[1 2 3 4]\n",
            " [5 6 7 8]]\n"
          ]
        }
      ]
    },
    {
      "cell_type": "markdown",
      "source": [
        "#Check characteristics of existing array"
      ],
      "metadata": {
        "id": "SelU47O66U4z"
      }
    },
    {
      "cell_type": "code",
      "source": [
        "arr = np.array([[1,2,3,4],[5,6,7,8]])\n",
        "print(arr)"
      ],
      "metadata": {
        "colab": {
          "base_uri": "https://localhost:8080/"
        },
        "id": "Hz6C-J0757vm",
        "outputId": "5a756d20-e170-4106-f29d-5fe061b35493"
      },
      "execution_count": 48,
      "outputs": [
        {
          "output_type": "stream",
          "name": "stdout",
          "text": [
            "[[1 2 3 4]\n",
            " [5 6 7 8]]\n"
          ]
        }
      ]
    },
    {
      "cell_type": "code",
      "source": [
        "#Dimension of array\n",
        "arr.ndim"
      ],
      "metadata": {
        "colab": {
          "base_uri": "https://localhost:8080/"
        },
        "id": "aQonQvv_6baX",
        "outputId": "2649961c-6263-4d93-c5d2-87ac2d765cc0"
      },
      "execution_count": 35,
      "outputs": [
        {
          "output_type": "execute_result",
          "data": {
            "text/plain": [
              "2"
            ]
          },
          "metadata": {},
          "execution_count": 35
        }
      ]
    },
    {
      "cell_type": "code",
      "source": [
        "#Shape of array\n",
        "arr.shape"
      ],
      "metadata": {
        "colab": {
          "base_uri": "https://localhost:8080/"
        },
        "id": "GutlG6ot6f_Q",
        "outputId": "31233639-be08-47ec-c5e0-bac2a260f509"
      },
      "execution_count": 36,
      "outputs": [
        {
          "output_type": "execute_result",
          "data": {
            "text/plain": [
              "(2, 4)"
            ]
          },
          "metadata": {},
          "execution_count": 36
        }
      ]
    },
    {
      "cell_type": "code",
      "source": [
        "#Size of array\n",
        "arr.size"
      ],
      "metadata": {
        "colab": {
          "base_uri": "https://localhost:8080/"
        },
        "id": "68d7J0EY6ybu",
        "outputId": "319e9af0-d826-41e6-f921-a10a912dfbf2"
      },
      "execution_count": 37,
      "outputs": [
        {
          "output_type": "execute_result",
          "data": {
            "text/plain": [
              "8"
            ]
          },
          "metadata": {},
          "execution_count": 37
        }
      ]
    },
    {
      "cell_type": "code",
      "source": [
        "arr.dtype"
      ],
      "metadata": {
        "colab": {
          "base_uri": "https://localhost:8080/"
        },
        "id": "bCSmhorV8pLz",
        "outputId": "0f5b15c0-6f56-4542-c2bb-2b611a946237"
      },
      "execution_count": 49,
      "outputs": [
        {
          "output_type": "execute_result",
          "data": {
            "text/plain": [
              "dtype('int64')"
            ]
          },
          "metadata": {},
          "execution_count": 49
        }
      ]
    },
    {
      "cell_type": "markdown",
      "source": [
        "#Create array based on requirements"
      ],
      "metadata": {
        "id": "3GdSCqcM7TNu"
      }
    },
    {
      "cell_type": "code",
      "source": [
        "#Array with zeros\n",
        "z = np.zeros((5,9))"
      ],
      "metadata": {
        "id": "u4rXW5Eq6_Md"
      },
      "execution_count": 38,
      "outputs": []
    },
    {
      "cell_type": "code",
      "source": [
        "print(z)"
      ],
      "metadata": {
        "colab": {
          "base_uri": "https://localhost:8080/"
        },
        "id": "-uc5WHxh7ino",
        "outputId": "901cf8d3-a18e-4742-b398-ebcdb5690cdd"
      },
      "execution_count": 39,
      "outputs": [
        {
          "output_type": "stream",
          "name": "stdout",
          "text": [
            "[[0. 0. 0. 0. 0. 0. 0. 0. 0.]\n",
            " [0. 0. 0. 0. 0. 0. 0. 0. 0.]\n",
            " [0. 0. 0. 0. 0. 0. 0. 0. 0.]\n",
            " [0. 0. 0. 0. 0. 0. 0. 0. 0.]\n",
            " [0. 0. 0. 0. 0. 0. 0. 0. 0.]]\n"
          ]
        }
      ]
    },
    {
      "cell_type": "code",
      "source": [
        "z.dtype"
      ],
      "metadata": {
        "colab": {
          "base_uri": "https://localhost:8080/"
        },
        "id": "wrGj4aGr8cS0",
        "outputId": "4d6137fe-8773-4402-cfa7-a2b2efcdefaf"
      },
      "execution_count": 47,
      "outputs": [
        {
          "output_type": "execute_result",
          "data": {
            "text/plain": [
              "dtype('float64')"
            ]
          },
          "metadata": {},
          "execution_count": 47
        }
      ]
    },
    {
      "cell_type": "code",
      "source": [
        "#Array with ones \n",
        "one = np.ones((2,6))"
      ],
      "metadata": {
        "id": "C7_YIESg7kin"
      },
      "execution_count": 40,
      "outputs": []
    },
    {
      "cell_type": "code",
      "source": [
        "print(one)"
      ],
      "metadata": {
        "colab": {
          "base_uri": "https://localhost:8080/"
        },
        "id": "tsU_M--S7331",
        "outputId": "54aeb4f3-e011-47a1-c836-e57b0fca7a77"
      },
      "execution_count": 41,
      "outputs": [
        {
          "output_type": "stream",
          "name": "stdout",
          "text": [
            "[[1. 1. 1. 1. 1. 1.]\n",
            " [1. 1. 1. 1. 1. 1.]]\n"
          ]
        }
      ]
    },
    {
      "cell_type": "code",
      "source": [
        "#Array with predifined same values \n",
        "t = np.full((3,6),12)"
      ],
      "metadata": {
        "id": "e5ghJzOn783-"
      },
      "execution_count": 62,
      "outputs": []
    },
    {
      "cell_type": "code",
      "source": [
        "print(t)"
      ],
      "metadata": {
        "colab": {
          "base_uri": "https://localhost:8080/"
        },
        "id": "NW6P4vcS8Tu9",
        "outputId": "929e9cdc-f619-42cc-b137-18bb62c1c827"
      },
      "execution_count": 63,
      "outputs": [
        {
          "output_type": "stream",
          "name": "stdout",
          "text": [
            "[[12 12 12 12 12 12]\n",
            " [12 12 12 12 12 12]\n",
            " [12 12 12 12 12 12]]\n"
          ]
        }
      ]
    },
    {
      "cell_type": "code",
      "source": [
        "t.dtype"
      ],
      "metadata": {
        "colab": {
          "base_uri": "https://localhost:8080/"
        },
        "id": "qho3rgm98VY9",
        "outputId": "fb1e3dcb-5975-4d5d-dae5-4400f89f2513"
      },
      "execution_count": 61,
      "outputs": [
        {
          "output_type": "execute_result",
          "data": {
            "text/plain": [
              "dtype('<U6')"
            ]
          },
          "metadata": {},
          "execution_count": 61
        }
      ]
    },
    {
      "cell_type": "code",
      "source": [
        "#Range array\n",
        "arr = np.arange(1,23,1)"
      ],
      "metadata": {
        "id": "3y-ehxQVBOKN"
      },
      "execution_count": 72,
      "outputs": []
    },
    {
      "cell_type": "code",
      "source": [
        "arr"
      ],
      "metadata": {
        "colab": {
          "base_uri": "https://localhost:8080/"
        },
        "id": "hKBjdfG6BOGy",
        "outputId": "fabb4aab-f20b-4aa0-c181-3d3d100da35c"
      },
      "execution_count": 73,
      "outputs": [
        {
          "output_type": "execute_result",
          "data": {
            "text/plain": [
              "array([ 1,  2,  3,  4,  5,  6,  7,  8,  9, 10, 11, 12, 13, 14, 15, 16, 17,\n",
              "       18, 19, 20, 21, 22])"
            ]
          },
          "metadata": {},
          "execution_count": 73
        }
      ]
    },
    {
      "cell_type": "code",
      "source": [
        "arr = np.arange(1,23,4)\n",
        "print(arr)"
      ],
      "metadata": {
        "colab": {
          "base_uri": "https://localhost:8080/"
        },
        "id": "Mq9nfgwCBN_D",
        "outputId": "e9b7f267-973c-4108-e578-02f6dbbb8d2b"
      },
      "execution_count": 74,
      "outputs": [
        {
          "output_type": "stream",
          "name": "stdout",
          "text": [
            "[ 1  5  9 13 17 21]\n"
          ]
        }
      ]
    },
    {
      "cell_type": "markdown",
      "source": [
        "#Array slicing :"
      ],
      "metadata": {
        "id": "PuNPe1TLB5g7"
      }
    },
    {
      "cell_type": "code",
      "source": [
        "arr = np.array([[4,6,2,4],[9,7,1,0],[3,1,0,9],[4,3,7,1]])\n",
        "print(arr)"
      ],
      "metadata": {
        "colab": {
          "base_uri": "https://localhost:8080/"
        },
        "id": "2W9rIuFFBN7d",
        "outputId": "7ae19847-6048-4a64-c250-55d8b18bde91"
      },
      "execution_count": 108,
      "outputs": [
        {
          "output_type": "stream",
          "name": "stdout",
          "text": [
            "[[4 6 2 4]\n",
            " [9 7 1 0]\n",
            " [3 1 0 9]\n",
            " [4 3 7 1]]\n"
          ]
        }
      ]
    },
    {
      "cell_type": "code",
      "source": [
        "arr[2,2]"
      ],
      "metadata": {
        "colab": {
          "base_uri": "https://localhost:8080/"
        },
        "id": "IvgCpvaNHilF",
        "outputId": "28b78e82-63ac-42d0-ab73-fea434c9e48c"
      },
      "execution_count": 109,
      "outputs": [
        {
          "output_type": "execute_result",
          "data": {
            "text/plain": [
              "0"
            ]
          },
          "metadata": {},
          "execution_count": 109
        }
      ]
    },
    {
      "cell_type": "code",
      "source": [
        "#First row\n",
        "arr[0,:]"
      ],
      "metadata": {
        "colab": {
          "base_uri": "https://localhost:8080/"
        },
        "id": "1BL9u-HNHnO2",
        "outputId": "6ecce30c-581a-41cb-c6d8-eba868a387bf"
      },
      "execution_count": 110,
      "outputs": [
        {
          "output_type": "execute_result",
          "data": {
            "text/plain": [
              "array([4, 6, 2, 4])"
            ]
          },
          "metadata": {},
          "execution_count": 110
        }
      ]
    },
    {
      "cell_type": "code",
      "source": [
        "#Last column\n",
        "arr[:,3]"
      ],
      "metadata": {
        "colab": {
          "base_uri": "https://localhost:8080/"
        },
        "id": "zgE4j_B1HqSL",
        "outputId": "94963849-e245-4c63-ad57-cd813e0015cc"
      },
      "execution_count": 111,
      "outputs": [
        {
          "output_type": "execute_result",
          "data": {
            "text/plain": [
              "array([4, 0, 9, 1])"
            ]
          },
          "metadata": {},
          "execution_count": 111
        }
      ]
    },
    {
      "cell_type": "code",
      "source": [
        "arr[0:3,0:3]"
      ],
      "metadata": {
        "colab": {
          "base_uri": "https://localhost:8080/"
        },
        "id": "OLi9qSrpDO7J",
        "outputId": "1bf8de5f-fda3-4ed6-d0b0-abb9d11f40a0"
      },
      "execution_count": 87,
      "outputs": [
        {
          "output_type": "execute_result",
          "data": {
            "text/plain": [
              "array([[4, 6, 2],\n",
              "       [9, 7, 1],\n",
              "       [3, 1, 0]])"
            ]
          },
          "metadata": {},
          "execution_count": 87
        }
      ]
    },
    {
      "cell_type": "code",
      "source": [
        "arr[1:,:]"
      ],
      "metadata": {
        "colab": {
          "base_uri": "https://localhost:8080/"
        },
        "id": "b5S9cGSsEIPv",
        "outputId": "31ac8943-fc59-4f99-e43f-9e97d10ae110"
      },
      "execution_count": 90,
      "outputs": [
        {
          "output_type": "execute_result",
          "data": {
            "text/plain": [
              "array([[9, 7, 1, 0],\n",
              "       [3, 1, 0, 9],\n",
              "       [4, 3, 7, 1]])"
            ]
          },
          "metadata": {},
          "execution_count": 90
        }
      ]
    },
    {
      "cell_type": "code",
      "source": [
        "arr[1:3,1:3]"
      ],
      "metadata": {
        "colab": {
          "base_uri": "https://localhost:8080/"
        },
        "id": "1pQCvIqhEsVU",
        "outputId": "af45a1dc-4d2a-43f6-b057-1f758a3bacd5"
      },
      "execution_count": 91,
      "outputs": [
        {
          "output_type": "execute_result",
          "data": {
            "text/plain": [
              "array([[7, 1],\n",
              "       [1, 0]])"
            ]
          },
          "metadata": {},
          "execution_count": 91
        }
      ]
    },
    {
      "cell_type": "code",
      "source": [
        "arr[1:,0:2]"
      ],
      "metadata": {
        "colab": {
          "base_uri": "https://localhost:8080/"
        },
        "id": "lYpWkk9HFFHV",
        "outputId": "82d6f343-4f52-4746-808b-f54e21a3f864"
      },
      "execution_count": 92,
      "outputs": [
        {
          "output_type": "execute_result",
          "data": {
            "text/plain": [
              "array([[9, 7],\n",
              "       [3, 1],\n",
              "       [4, 3]])"
            ]
          },
          "metadata": {},
          "execution_count": 92
        }
      ]
    },
    {
      "cell_type": "code",
      "source": [
        "#Flattening\n",
        "arr = np.array([[4,6,2,4],[9,7,1,0],[3,1,0,9],[4,3,7,1]])\n",
        "print(arr)\n",
        "x = arr.flatten()\n",
        "print(x)"
      ],
      "metadata": {
        "colab": {
          "base_uri": "https://localhost:8080/"
        },
        "id": "hUx04Y3gBNz-",
        "outputId": "4160f9f3-a2d2-48c4-f6d5-f5523bdd6d08"
      },
      "execution_count": 93,
      "outputs": [
        {
          "output_type": "stream",
          "name": "stdout",
          "text": [
            "[[4 6 2 4]\n",
            " [9 7 1 0]\n",
            " [3 1 0 9]\n",
            " [4 3 7 1]]\n"
          ]
        }
      ]
    },
    {
      "cell_type": "code",
      "source": [],
      "metadata": {
        "id": "ZJzpKzXSBNyj"
      },
      "execution_count": 98,
      "outputs": []
    },
    {
      "cell_type": "code",
      "source": [
        "#Reshaping\n",
        "arr = np.array([[4,6,2,4],[9,7,1,0],[3,1,0,9],[4,3,7,1]])\n",
        "print(arr)\n"
      ],
      "metadata": {
        "colab": {
          "base_uri": "https://localhost:8080/"
        },
        "id": "O9Vk75ZmBNwb",
        "outputId": "b11eb551-a1cf-493b-9bcc-097bffe2bb91"
      },
      "execution_count": 100,
      "outputs": [
        {
          "output_type": "stream",
          "name": "stdout",
          "text": [
            "[[4 6 2 4]\n",
            " [9 7 1 0]\n",
            " [3 1 0 9]\n",
            " [4 3 7 1]]\n"
          ]
        }
      ]
    },
    {
      "cell_type": "code",
      "source": [
        "arr2 = arr.reshape((8,2))\n",
        "print(arr2)"
      ],
      "metadata": {
        "id": "oZ8qnYKOBNuF"
      },
      "execution_count": 101,
      "outputs": []
    },
    {
      "cell_type": "code",
      "source": [],
      "metadata": {
        "colab": {
          "base_uri": "https://localhost:8080/"
        },
        "id": "qmvdGAUcGD9t",
        "outputId": "761253d7-bf96-49f5-d67a-8ecd1c078b95"
      },
      "execution_count": 102,
      "outputs": [
        {
          "output_type": "execute_result",
          "data": {
            "text/plain": [
              "array([[4, 6],\n",
              "       [2, 4],\n",
              "       [9, 7],\n",
              "       [1, 0],\n",
              "       [3, 1],\n",
              "       [0, 9],\n",
              "       [4, 3],\n",
              "       [7, 1]])"
            ]
          },
          "metadata": {},
          "execution_count": 102
        }
      ]
    },
    {
      "cell_type": "code",
      "source": [
        "arr3 = arr.reshape((2,8))\n",
        "print(arr3)"
      ],
      "metadata": {
        "colab": {
          "base_uri": "https://localhost:8080/"
        },
        "id": "pQ4kqTeOGITq",
        "outputId": "dcd372cc-f835-4b50-9fcf-9a6730f87f8f"
      },
      "execution_count": 104,
      "outputs": [
        {
          "output_type": "stream",
          "name": "stdout",
          "text": [
            "[[4 6 2 4 9 7 1 0]\n",
            " [3 1 0 9 4 3 7 1]]\n"
          ]
        }
      ]
    },
    {
      "cell_type": "code",
      "source": [
        "arr4 = arr.reshape((16,1))\n",
        "print(arr4)"
      ],
      "metadata": {
        "colab": {
          "base_uri": "https://localhost:8080/"
        },
        "id": "jbzShehSGD4C",
        "outputId": "5b48fe47-414e-4cec-a50c-a30916b4fccb"
      },
      "execution_count": 107,
      "outputs": [
        {
          "output_type": "stream",
          "name": "stdout",
          "text": [
            "[[4]\n",
            " [6]\n",
            " [2]\n",
            " [4]\n",
            " [9]\n",
            " [7]\n",
            " [1]\n",
            " [0]\n",
            " [3]\n",
            " [1]\n",
            " [0]\n",
            " [9]\n",
            " [4]\n",
            " [3]\n",
            " [7]\n",
            " [1]]\n"
          ]
        }
      ]
    },
    {
      "cell_type": "code",
      "source": [
        "#This will generate error \n",
        "arr4 = arr.reshape((5,6))\n",
        "print(arr4)"
      ],
      "metadata": {
        "id": "8KaIq9b3GufA"
      },
      "execution_count": null,
      "outputs": []
    },
    {
      "cell_type": "markdown",
      "source": [],
      "metadata": {
        "id": "3WHX6csnHF7Q"
      }
    },
    {
      "cell_type": "markdown",
      "source": [
        "#Practice code :\n",
        " \n",
        " create 1 numpy array with dimensions 4,5 : having values 1\n",
        "\n",
        " create 2nd numpy array with dimension 4,5 having values : 34\n",
        "\n",
        " check their dimensions and shapes , if both dimensions and shapes are same, print \"They both can do operation\""
      ],
      "metadata": {
        "id": "Hg9NewcW9gln"
      }
    },
    {
      "cell_type": "code",
      "source": [
        "arr1 = np.full((4,5),1)"
      ],
      "metadata": {
        "id": "fWh_Bleo9dvC"
      },
      "execution_count": 64,
      "outputs": []
    },
    {
      "cell_type": "code",
      "source": [
        "arr2 = np.full((4,5),34)"
      ],
      "metadata": {
        "id": "62lf9jDV9Dfl"
      },
      "execution_count": 65,
      "outputs": []
    },
    {
      "cell_type": "code",
      "source": [
        "if(arr1.ndim == arr2.ndim and arr1.shape == arr2.shape):\n",
        "  print(\"They both can do operation\")"
      ],
      "metadata": {
        "colab": {
          "base_uri": "https://localhost:8080/"
        },
        "id": "hRArOtYU9JKB",
        "outputId": "88c5c2d4-edb6-426f-c4ed-e72aeb0994d6"
      },
      "execution_count": 67,
      "outputs": [
        {
          "output_type": "stream",
          "name": "stdout",
          "text": [
            "They both can do operation\n"
          ]
        }
      ]
    }
  ]
}